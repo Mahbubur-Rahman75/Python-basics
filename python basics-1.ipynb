{
 "cells": [
  {
   "cell_type": "code",
   "execution_count": 2,
   "id": "97514b5c",
   "metadata": {},
   "outputs": [
    {
     "data": {
      "text/plain": [
       "'h'"
      ]
     },
     "execution_count": 2,
     "metadata": {},
     "output_type": "execute_result"
    }
   ],
   "source": [
    "'h'\n"
   ]
  },
  {
   "cell_type": "markdown",
   "id": "2ee1dbe9",
   "metadata": {},
   "source": [
    "if you want to write side note then first write and select markdown instead of code. this will appear as markdown"
   ]
  },
  {
   "cell_type": "code",
   "execution_count": 3,
   "id": "02bd761c",
   "metadata": {},
   "outputs": [
    {
     "data": {
      "text/plain": [
       "True"
      ]
     },
     "execution_count": 3,
     "metadata": {},
     "output_type": "execute_result"
    }
   ],
   "source": [
    "1>-1"
   ]
  },
  {
   "cell_type": "code",
   "execution_count": 4,
   "id": "8ee045c7",
   "metadata": {},
   "outputs": [
    {
     "data": {
      "text/plain": [
       "1.0"
      ]
     },
     "execution_count": 4,
     "metadata": {},
     "output_type": "execute_result"
    }
   ],
   "source": [
    "1/1"
   ]
  },
  {
   "cell_type": "code",
   "execution_count": 5,
   "id": "3f5a28c2",
   "metadata": {},
   "outputs": [
    {
     "data": {
      "text/plain": [
       "2.0"
      ]
     },
     "execution_count": 5,
     "metadata": {},
     "output_type": "execute_result"
    }
   ],
   "source": [
    "4/2"
   ]
  },
  {
   "cell_type": "code",
   "execution_count": 6,
   "id": "2fd2d952",
   "metadata": {},
   "outputs": [
    {
     "data": {
      "text/plain": [
       "10"
      ]
     },
     "execution_count": 6,
     "metadata": {},
     "output_type": "execute_result"
    }
   ],
   "source": [
    "2+8"
   ]
  },
  {
   "cell_type": "code",
   "execution_count": 7,
   "id": "48c01265",
   "metadata": {},
   "outputs": [],
   "source": [
    "x=.2"
   ]
  },
  {
   "cell_type": "code",
   "execution_count": 8,
   "id": "7d8851d2",
   "metadata": {},
   "outputs": [],
   "source": [
    "y=0.9\n"
   ]
  },
  {
   "cell_type": "code",
   "execution_count": 9,
   "id": "4a9d5da9",
   "metadata": {},
   "outputs": [
    {
     "data": {
      "text/plain": [
       "0.22222222222222224"
      ]
     },
     "execution_count": 9,
     "metadata": {},
     "output_type": "execute_result"
    }
   ],
   "source": [
    "x/y"
   ]
  },
  {
   "cell_type": "code",
   "execution_count": 10,
   "id": "d9177506",
   "metadata": {},
   "outputs": [],
   "source": [
    "x='Google'"
   ]
  },
  {
   "cell_type": "code",
   "execution_count": 11,
   "id": "122e59dc",
   "metadata": {},
   "outputs": [
    {
     "data": {
      "text/plain": [
       "6"
      ]
     },
     "execution_count": 11,
     "metadata": {},
     "output_type": "execute_result"
    }
   ],
   "source": [
    "len(x)"
   ]
  },
  {
   "cell_type": "code",
   "execution_count": 12,
   "id": "037b0d6a",
   "metadata": {},
   "outputs": [
    {
     "data": {
      "text/plain": [
       "True"
      ]
     },
     "execution_count": 12,
     "metadata": {},
     "output_type": "execute_result"
    }
   ],
   "source": [
    "2==2"
   ]
  },
  {
   "cell_type": "code",
   "execution_count": 13,
   "id": "ccb3d63f",
   "metadata": {},
   "outputs": [
    {
     "data": {
      "text/plain": [
       "False"
      ]
     },
     "execution_count": 13,
     "metadata": {},
     "output_type": "execute_result"
    }
   ],
   "source": [
    "2==3"
   ]
  },
  {
   "cell_type": "code",
   "execution_count": 14,
   "id": "1e5be0b2",
   "metadata": {},
   "outputs": [
    {
     "data": {
      "text/plain": [
       "False"
      ]
     },
     "execution_count": 14,
     "metadata": {},
     "output_type": "execute_result"
    }
   ],
   "source": [
    "'g'=='G'"
   ]
  },
  {
   "cell_type": "code",
   "execution_count": 15,
   "id": "bcf20c08",
   "metadata": {},
   "outputs": [
    {
     "data": {
      "text/plain": [
       "True"
      ]
     },
     "execution_count": 15,
     "metadata": {},
     "output_type": "execute_result"
    }
   ],
   "source": [
    "x=2\n",
    "r=9\n",
    "x*r>1"
   ]
  },
  {
   "cell_type": "code",
   "execution_count": 16,
   "id": "6ac42aae",
   "metadata": {},
   "outputs": [],
   "source": [
    "a={1,3,4}\n",
    "b={3,4,5}"
   ]
  },
  {
   "cell_type": "code",
   "execution_count": 17,
   "id": "dc8b43b8",
   "metadata": {},
   "outputs": [
    {
     "data": {
      "text/plain": [
       "{3, 4}"
      ]
     },
     "execution_count": 17,
     "metadata": {},
     "output_type": "execute_result"
    }
   ],
   "source": [
    "a.intersection(b)"
   ]
  },
  {
   "cell_type": "code",
   "execution_count": 19,
   "id": "416e1cc6",
   "metadata": {},
   "outputs": [
    {
     "name": "stdout",
     "output_type": "stream",
     "text": [
      "name: mithu\n"
     ]
    }
   ],
   "source": [
    "name='mithu'\n",
    "print('name:',name)"
   ]
  },
  {
   "cell_type": "code",
   "execution_count": 20,
   "id": "4e2e1d36",
   "metadata": {},
   "outputs": [
    {
     "name": "stdout",
     "output_type": "stream",
     "text": [
      "<class 'str'>\n"
     ]
    }
   ],
   "source": [
    "print(type(name))"
   ]
  },
  {
   "cell_type": "code",
   "execution_count": 21,
   "id": "d61fd97b",
   "metadata": {},
   "outputs": [],
   "source": [
    "age=17"
   ]
  },
  {
   "cell_type": "code",
   "execution_count": 22,
   "id": "e45434e3",
   "metadata": {},
   "outputs": [
    {
     "name": "stdout",
     "output_type": "stream",
     "text": [
      "age: 17 <class 'int'>\n"
     ]
    }
   ],
   "source": [
    "print('age:', age, type(age))"
   ]
  },
  {
   "cell_type": "code",
   "execution_count": 23,
   "id": "191cdf25",
   "metadata": {},
   "outputs": [
    {
     "name": "stdout",
     "output_type": "stream",
     "text": [
      "name :  Lionel Andres Messi\n",
      "type of name is <class 'str'>\n",
      "birth_year :  1987\n",
      "type of birth_year is <class 'int'>\n",
      "height :  1.7\n",
      "type of height is <class 'float'>\n",
      "no_1_player :  True\n",
      "type of no_1_player is <class 'bool'>\n"
     ]
    }
   ],
   "source": [
    "name = 'Lionel Andres Messi'\n",
    "print(\"name : \", name)\n",
    "print('type of name is', type(name))\n",
    "\n",
    "birth_year = 1987\n",
    "print(\"birth_year : \", birth_year)\n",
    "print('type of birth_year is', type(birth_year))\n",
    "\n",
    "height = 1.7\n",
    "print(\"height : \", height)\n",
    "print('type of height is', type(height))\n",
    "\n",
    "no_1_player = True\n",
    "print(\"no_1_player : \", no_1_player)\n",
    "print('type of no_1_player is', type(no_1_player))"
   ]
  },
  {
   "cell_type": "code",
   "execution_count": 31,
   "id": "36c027a5",
   "metadata": {},
   "outputs": [
    {
     "name": "stdout",
     "output_type": "stream",
     "text": [
      "a+b =  13\n",
      "a*b =  40\n",
      "a-b =  3\n",
      "a%b =  3\n",
      "a/b =  1.6\n",
      "a//b =  1\n",
      "a**b =  32768\n"
     ]
    }
   ],
   "source": [
    "a = 8 #integer\n",
    "b = 5 #integer \n",
    "\n",
    "# Addition\n",
    "print(\"a+b = \", a+b) \n",
    "\n",
    "# Multiplication\n",
    "print(\"a*b = \", a*b) \n",
    "\n",
    "# Subtraction\n",
    "print(\"a-b = \", a-b) \n",
    "\n",
    "# Modulus: Divides left hand operand by right hand operand and returns remainder\n",
    "print(\"a%b = \", a%b) \n",
    "\n",
    "# Division\n",
    "print(\"a/b = \", a/b)\n",
    "\n",
    "# Floor Division - The division of operands \n",
    "# where the result is the quotient in which \n",
    "# the digits after the decimal point are removed. \n",
    "# But if one of the operands is negative, the result is floored, \n",
    "# i.e., rounded away from zero (towards negative infinity)\n",
    "print(\"a//b = \", a//b) # the digits after the decimal point are removed.\n",
    "\n",
    "# Exponent: Performs exponential (power) calculation on operators\n",
    "print(\"a**b = \", a**b) "
   ]
  },
  {
   "cell_type": "code",
   "execution_count": 25,
   "id": "86f6cc51",
   "metadata": {},
   "outputs": [
    {
     "name": "stdout",
     "output_type": "stream",
     "text": [
      "a == b :  False\n",
      "a != b :  True\n",
      "a >= b :  False\n",
      "a <= b :  True\n",
      "a > b  :  False\n",
      "a < b  :  True\n"
     ]
    }
   ],
   "source": [
    "a = -1\n",
    "b = 1\n",
    "\n",
    "print(\"a == b : \", a == b)\n",
    "print(\"a != b : \", a != b)\n",
    "print(\"a >= b : \", a >= b)\n",
    "print(\"a <= b : \", a <= b)\n",
    "print(\"a > b  : \", a > b)\n",
    "print(\"a < b  : \", a < b)"
   ]
  },
  {
   "cell_type": "code",
   "execution_count": null,
   "id": "fc87b9dc",
   "metadata": {},
   "outputs": [],
   "source": []
  }
 ],
 "metadata": {
  "kernelspec": {
   "display_name": "Python 3 (ipykernel)",
   "language": "python",
   "name": "python3"
  },
  "language_info": {
   "codemirror_mode": {
    "name": "ipython",
    "version": 3
   },
   "file_extension": ".py",
   "mimetype": "text/x-python",
   "name": "python",
   "nbconvert_exporter": "python",
   "pygments_lexer": "ipython3",
   "version": "3.9.7"
  }
 },
 "nbformat": 4,
 "nbformat_minor": 5
}
