{
 "cells": [
  {
   "cell_type": "code",
   "execution_count": 9,
   "id": "4b1cce54",
   "metadata": {},
   "outputs": [],
   "source": [
    "a='abbul'\n",
    "b='babbul'"
   ]
  },
  {
   "cell_type": "code",
   "execution_count": 2,
   "id": "62426809",
   "metadata": {},
   "outputs": [
    {
     "name": "stdout",
     "output_type": "stream",
     "text": [
      "True\n"
     ]
    }
   ],
   "source": [
    "print(a in b)"
   ]
  },
  {
   "cell_type": "code",
   "execution_count": 3,
   "id": "b1ecbda8",
   "metadata": {},
   "outputs": [
    {
     "data": {
      "text/plain": [
       "False"
      ]
     },
     "execution_count": 3,
     "metadata": {},
     "output_type": "execute_result"
    }
   ],
   "source": [
    "a not in b"
   ]
  },
  {
   "cell_type": "code",
   "execution_count": 4,
   "id": "903842b7",
   "metadata": {},
   "outputs": [
    {
     "data": {
      "text/plain": [
       "False"
      ]
     },
     "execution_count": 4,
     "metadata": {},
     "output_type": "execute_result"
    }
   ],
   "source": [
    "a==b\n"
   ]
  },
  {
   "cell_type": "code",
   "execution_count": 5,
   "id": "faef3e54",
   "metadata": {},
   "outputs": [
    {
     "data": {
      "text/plain": [
       "'Abul'"
      ]
     },
     "execution_count": 5,
     "metadata": {},
     "output_type": "execute_result"
    }
   ],
   "source": [
    "a.capitalize()"
   ]
  },
  {
   "cell_type": "code",
   "execution_count": 10,
   "id": "1dfd87ed",
   "metadata": {},
   "outputs": [
    {
     "data": {
      "text/plain": [
       "2"
      ]
     },
     "execution_count": 10,
     "metadata": {},
     "output_type": "execute_result"
    }
   ],
   "source": [
    "a.count('b')"
   ]
  },
  {
   "cell_type": "code",
   "execution_count": 13,
   "id": "14e2cc3e",
   "metadata": {},
   "outputs": [
    {
     "data": {
      "text/plain": [
       "True"
      ]
     },
     "execution_count": 13,
     "metadata": {},
     "output_type": "execute_result"
    }
   ],
   "source": [
    "a.startswith('a')"
   ]
  },
  {
   "cell_type": "code",
   "execution_count": 15,
   "id": "52d46583",
   "metadata": {},
   "outputs": [
    {
     "data": {
      "text/plain": [
       "True"
      ]
     },
     "execution_count": 15,
     "metadata": {},
     "output_type": "execute_result"
    }
   ],
   "source": [
    "a.endswith('l')"
   ]
  },
  {
   "cell_type": "code",
   "execution_count": 21,
   "id": "7d00fb0c",
   "metadata": {},
   "outputs": [
    {
     "data": {
      "text/plain": [
       "4"
      ]
     },
     "execution_count": 21,
     "metadata": {},
     "output_type": "execute_result"
    }
   ],
   "source": [
    "a.find('l') # to find index"
   ]
  },
  {
   "cell_type": "code",
   "execution_count": 22,
   "id": "90117c25",
   "metadata": {},
   "outputs": [
    {
     "data": {
      "text/plain": [
       "'ABBUL'"
      ]
     },
     "execution_count": 22,
     "metadata": {},
     "output_type": "execute_result"
    }
   ],
   "source": [
    "a.upper()"
   ]
  },
  {
   "cell_type": "code",
   "execution_count": 23,
   "id": "b546b066",
   "metadata": {},
   "outputs": [
    {
     "data": {
      "text/plain": [
       "'abbul'"
      ]
     },
     "execution_count": 23,
     "metadata": {},
     "output_type": "execute_result"
    }
   ],
   "source": [
    "a.lower()"
   ]
  },
  {
   "cell_type": "code",
   "execution_count": 24,
   "id": "a53913a0",
   "metadata": {},
   "outputs": [],
   "source": [
    "c='   bbmm'"
   ]
  },
  {
   "cell_type": "code",
   "execution_count": 28,
   "id": "c437137a",
   "metadata": {},
   "outputs": [
    {
     "data": {
      "text/plain": [
       "'bbmm'"
      ]
     },
     "execution_count": 28,
     "metadata": {},
     "output_type": "execute_result"
    }
   ],
   "source": [
    "c.lstrip() # remove space from a string"
   ]
  },
  {
   "cell_type": "code",
   "execution_count": 36,
   "id": "7d9cbfb2",
   "metadata": {},
   "outputs": [
    {
     "data": {
      "text/plain": [
       "'bbbmmm2'"
      ]
     },
     "execution_count": 36,
     "metadata": {},
     "output_type": "execute_result"
    }
   ],
   "source": [
    "c='bbbmmm2   '\n",
    "c.rstrip()"
   ]
  },
  {
   "cell_type": "code",
   "execution_count": 37,
   "id": "b9cbe510",
   "metadata": {},
   "outputs": [
    {
     "data": {
      "text/plain": [
       "'vvvmmm2   '"
      ]
     },
     "execution_count": 37,
     "metadata": {},
     "output_type": "execute_result"
    }
   ],
   "source": [
    "c.replace('b','v')"
   ]
  },
  {
   "cell_type": "code",
   "execution_count": 38,
   "id": "35105e1c",
   "metadata": {},
   "outputs": [
    {
     "data": {
      "text/plain": [
       "False"
      ]
     },
     "execution_count": 38,
     "metadata": {},
     "output_type": "execute_result"
    }
   ],
   "source": [
    "c.isalnum()"
   ]
  },
  {
   "cell_type": "code",
   "execution_count": 39,
   "id": "882e7c46",
   "metadata": {},
   "outputs": [],
   "source": [
    "d='mithu75'"
   ]
  },
  {
   "cell_type": "code",
   "execution_count": 40,
   "id": "437c37b2",
   "metadata": {},
   "outputs": [
    {
     "data": {
      "text/plain": [
       "True"
      ]
     },
     "execution_count": 40,
     "metadata": {},
     "output_type": "execute_result"
    }
   ],
   "source": [
    "d.isalnum()"
   ]
  },
  {
   "cell_type": "code",
   "execution_count": 41,
   "id": "947be46a",
   "metadata": {},
   "outputs": [
    {
     "data": {
      "text/plain": [
       "False"
      ]
     },
     "execution_count": 41,
     "metadata": {},
     "output_type": "execute_result"
    }
   ],
   "source": [
    "d.isdigit()"
   ]
  },
  {
   "cell_type": "code",
   "execution_count": 42,
   "id": "248a8488",
   "metadata": {},
   "outputs": [
    {
     "data": {
      "text/plain": [
       "True"
      ]
     },
     "execution_count": 42,
     "metadata": {},
     "output_type": "execute_result"
    }
   ],
   "source": [
    "d.islower()"
   ]
  },
  {
   "cell_type": "code",
   "execution_count": 43,
   "id": "74457517",
   "metadata": {},
   "outputs": [
    {
     "data": {
      "text/plain": [
       "False"
      ]
     },
     "execution_count": 43,
     "metadata": {},
     "output_type": "execute_result"
    }
   ],
   "source": [
    "d.isupper()"
   ]
  },
  {
   "cell_type": "code",
   "execution_count": 44,
   "id": "229ba9ab",
   "metadata": {},
   "outputs": [
    {
     "data": {
      "text/plain": [
       "False"
      ]
     },
     "execution_count": 44,
     "metadata": {},
     "output_type": "execute_result"
    }
   ],
   "source": [
    "d.isspace()"
   ]
  },
  {
   "cell_type": "code",
   "execution_count": 45,
   "id": "fd3c4751",
   "metadata": {},
   "outputs": [
    {
     "data": {
      "text/plain": [
       "'m'"
      ]
     },
     "execution_count": 45,
     "metadata": {},
     "output_type": "execute_result"
    }
   ],
   "source": [
    "d[0]"
   ]
  },
  {
   "cell_type": "code",
   "execution_count": 46,
   "id": "b49bb998",
   "metadata": {},
   "outputs": [
    {
     "data": {
      "text/plain": [
       "'i'"
      ]
     },
     "execution_count": 46,
     "metadata": {},
     "output_type": "execute_result"
    }
   ],
   "source": [
    "d[1]"
   ]
  },
  {
   "cell_type": "code",
   "execution_count": 47,
   "id": "6284eace",
   "metadata": {},
   "outputs": [
    {
     "data": {
      "text/plain": [
       "'u'"
      ]
     },
     "execution_count": 47,
     "metadata": {},
     "output_type": "execute_result"
    }
   ],
   "source": [
    "d[4]"
   ]
  },
  {
   "cell_type": "code",
   "execution_count": 48,
   "id": "59fd7278",
   "metadata": {},
   "outputs": [
    {
     "data": {
      "text/plain": [
       "'i'"
      ]
     },
     "execution_count": 48,
     "metadata": {},
     "output_type": "execute_result"
    }
   ],
   "source": [
    "d[1:2]"
   ]
  },
  {
   "cell_type": "code",
   "execution_count": 49,
   "id": "f04b8075",
   "metadata": {},
   "outputs": [
    {
     "data": {
      "text/plain": [
       "'mithu75'"
      ]
     },
     "execution_count": 49,
     "metadata": {},
     "output_type": "execute_result"
    }
   ],
   "source": [
    "d[:]"
   ]
  },
  {
   "cell_type": "code",
   "execution_count": 52,
   "id": "5d9cd845",
   "metadata": {},
   "outputs": [
    {
     "data": {
      "text/plain": [
       "'m'"
      ]
     },
     "execution_count": 52,
     "metadata": {},
     "output_type": "execute_result"
    }
   ],
   "source": [
    "d[:1]"
   ]
  },
  {
   "cell_type": "code",
   "execution_count": 57,
   "id": "685b6479",
   "metadata": {},
   "outputs": [
    {
     "data": {
      "text/plain": [
       "'5'"
      ]
     },
     "execution_count": 57,
     "metadata": {},
     "output_type": "execute_result"
    }
   ],
   "source": [
    "d[-1:]"
   ]
  },
  {
   "cell_type": "code",
   "execution_count": 58,
   "id": "246c310a",
   "metadata": {},
   "outputs": [
    {
     "data": {
      "text/plain": [
       "'u'"
      ]
     },
     "execution_count": 58,
     "metadata": {},
     "output_type": "execute_result"
    }
   ],
   "source": [
    "d[-3]"
   ]
  },
  {
   "cell_type": "code",
   "execution_count": 60,
   "id": "e878fbfb",
   "metadata": {},
   "outputs": [
    {
     "name": "stdout",
     "output_type": "stream",
     "text": [
      "['abbu', 1.73, 'ammu', 1.68, 'vaia', 1.9, 'apu', 1.79]\n",
      "abbu\n",
      "1.73\n",
      "['ammu', 1.68]\n",
      "['vaia', 1.9]\n",
      "['abbu', 1.73, 'ammu', 1.68]\n",
      "['vaia', 1.9, 'apu', 1.79]\n",
      "apu\n",
      "1.79\n"
     ]
    }
   ],
   "source": [
    "family = [\"abbu\", 1.73, \"ammu\", 1.68, \"vaia\", 1.9, \"apu\", 1.79]\n",
    "\n",
    "print(family)\n",
    "print(family[0])\n",
    "print(family[1])\n",
    "print(family[2:4])\n",
    "print(family[4:6])\n",
    "print(family[:4])\n",
    "print(family[4:])\n",
    "print(family[-2])\n",
    "print(family[-1])"
   ]
  },
  {
   "cell_type": "code",
   "execution_count": 61,
   "id": "27a9830e",
   "metadata": {},
   "outputs": [
    {
     "data": {
      "text/plain": [
       "['abbu', 1.73, 'ammu', 1.68, 'vaia', 1.9, 'apu', 90]"
      ]
     },
     "execution_count": 61,
     "metadata": {},
     "output_type": "execute_result"
    }
   ],
   "source": [
    "family[7]=90\n",
    "family"
   ]
  },
  {
   "cell_type": "code",
   "execution_count": 62,
   "id": "ea6e52f4",
   "metadata": {},
   "outputs": [
    {
     "name": "stdout",
     "output_type": "stream",
     "text": [
      "['baba', 1.74, 'ammu', 1.68, 'vaia', 1.9, 'apu', 90]\n"
     ]
    }
   ],
   "source": [
    "family[0:2] = [\"baba\", 1.74]\n",
    "print(family)"
   ]
  },
  {
   "cell_type": "code",
   "execution_count": 63,
   "id": "df278995",
   "metadata": {},
   "outputs": [
    {
     "name": "stdout",
     "output_type": "stream",
     "text": [
      "['baba', 1.74, 'ammu', 1.68, 'vaia', 1.9, 'apu', 90, 'me', 1.6, 19]\n"
     ]
    }
   ],
   "source": [
    "family = family + [\"me\", 1.6,19]\n",
    "print(family)"
   ]
  },
  {
   "cell_type": "code",
   "execution_count": 65,
   "id": "0e7bfa37",
   "metadata": {},
   "outputs": [
    {
     "name": "stdout",
     "output_type": "stream",
     "text": [
      "['baba', 1.74, 'ammu', 1.68, 'vaia', 1.9, 'apu', 90, 1.6]\n"
     ]
    }
   ],
   "source": [
    "# removing list elements\n",
    "del(family[-2])\n",
    "print(family)"
   ]
  },
  {
   "cell_type": "code",
   "execution_count": null,
   "id": "d3e91030",
   "metadata": {},
   "outputs": [],
   "source": []
  }
 ],
 "metadata": {
  "kernelspec": {
   "display_name": "Python 3 (ipykernel)",
   "language": "python",
   "name": "python3"
  },
  "language_info": {
   "codemirror_mode": {
    "name": "ipython",
    "version": 3
   },
   "file_extension": ".py",
   "mimetype": "text/x-python",
   "name": "python",
   "nbconvert_exporter": "python",
   "pygments_lexer": "ipython3",
   "version": "3.9.7"
  }
 },
 "nbformat": 4,
 "nbformat_minor": 5
}
