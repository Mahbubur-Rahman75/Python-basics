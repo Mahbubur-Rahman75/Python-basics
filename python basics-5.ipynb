{
 "cells": [
  {
   "cell_type": "code",
   "execution_count": 8,
   "id": "2801d912",
   "metadata": {},
   "outputs": [],
   "source": [
    "example=[1,2,3,4,33,45,6]\n",
    "def maximumproduct(nums):\n",
    "    nums=sorted(nums)\n",
    "    print('sorted nums:',nums)\n",
    "    prod_1=nums[0]*nums[1]*nums[-1]\n",
    "    print('prod_1:',prod_1)\n",
    "    prod_2=nums[-1]*nums[-2]*nums[-3]\n",
    "    print('prod_2:',prod_2)\n",
    "    return max(prod_1, prod_2)"
   ]
  },
  {
   "cell_type": "code",
   "execution_count": 9,
   "id": "9286c846",
   "metadata": {},
   "outputs": [
    {
     "name": "stdout",
     "output_type": "stream",
     "text": [
      "sorted nums: [1, 2, 3, 4, 6, 33, 45]\n",
      "prod_1: 90\n",
      "prod_2: 8910\n"
     ]
    },
    {
     "data": {
      "text/plain": [
       "8910"
      ]
     },
     "execution_count": 9,
     "metadata": {},
     "output_type": "execute_result"
    }
   ],
   "source": [
    "maximumproduct(example)"
   ]
  },
  {
   "cell_type": "code",
   "execution_count": 10,
   "id": "8c671e2e",
   "metadata": {},
   "outputs": [
    {
     "name": "stdout",
     "output_type": "stream",
     "text": [
      "sorted nums: [1, 2, 3]\n",
      "prod_1: 6\n",
      "prod_2: 6\n",
      "6\n",
      "----------------------------------------\n",
      "sorted nums: [1, 2, 3, 4]\n",
      "prod_1: 8\n",
      "prod_2: 24\n",
      "24\n",
      "----------------------------------------\n",
      "sorted nums: [-4, -2, -1, 1, 2, 6]\n",
      "prod_1: 48\n",
      "prod_2: 12\n",
      "48\n"
     ]
    }
   ],
   "source": [
    "def maximumproduct(nums):\n",
    "    nums=sorted(nums)\n",
    "    print('sorted nums:',nums)\n",
    "    prod_1=nums[0]*nums[1]*nums[-1]\n",
    "    print('prod_1:',prod_1)\n",
    "    prod_2=nums[-1]*nums[-2]*nums[-3]\n",
    "    print('prod_2:',prod_2)\n",
    "    return max(prod_1, prod_2)\n",
    "\n",
    "\n",
    "p1_example_1 = maximumproduct([1,2,3])\n",
    "print(p1_example_1)\n",
    "print(\"----------------------------------------\")\n",
    "\n",
    "p1_example_2 = maximumproduct([1,2,3,4])\n",
    "print(p1_example_2)\n",
    "print(\"----------------------------------------\")\n",
    "\n",
    "p1_example_3 = maximumproduct([-1,-2,-4,1,2,6])\n",
    "print(p1_example_3)"
   ]
  },
  {
   "cell_type": "code",
   "execution_count": 23,
   "id": "b38528a4",
   "metadata": {},
   "outputs": [],
   "source": [
    "def maximumaccount(accounts):\n",
    "    wealth=[]\n",
    "    for element in range (len(accounts)):\n",
    "        print(element)\n",
    "        print(accounts[element])\n",
    "        print(sum(accounts[element]))\n",
    "        wealth.append(sum(accounts[element]))\n",
    "        print(wealth)     "
   ]
  },
  {
   "cell_type": "code",
   "execution_count": 24,
   "id": "8d8b34e0",
   "metadata": {},
   "outputs": [
    {
     "name": "stdout",
     "output_type": "stream",
     "text": [
      "0\n",
      "[1, 2, 3]\n",
      "6\n",
      "[6]\n",
      "1\n",
      "[3, 4, 5]\n",
      "12\n",
      "[6, 12]\n"
     ]
    }
   ],
   "source": [
    "maximumaccount([[1,2,3],[3,4,5]])"
   ]
  },
  {
   "cell_type": "code",
   "execution_count": 25,
   "id": "4609dfd3",
   "metadata": {},
   "outputs": [],
   "source": [
    "def maximumaccount(accounts):\n",
    "    wealth=[]\n",
    "    for element in range (len(accounts)):\n",
    "        print(element)\n",
    "        print(accounts[element])\n",
    "        print(sum(accounts[element]))\n",
    "        wealth.append(sum(accounts[element]))\n",
    "    return max(wealth)     "
   ]
  },
  {
   "cell_type": "code",
   "execution_count": 26,
   "id": "963a5bce",
   "metadata": {},
   "outputs": [
    {
     "name": "stdout",
     "output_type": "stream",
     "text": [
      "0\n",
      "[1, 2, 3]\n",
      "6\n",
      "1\n",
      "[3, 4, 5]\n",
      "12\n"
     ]
    },
    {
     "data": {
      "text/plain": [
       "12"
      ]
     },
     "execution_count": 26,
     "metadata": {},
     "output_type": "execute_result"
    }
   ],
   "source": [
    "maximumaccount([[1,2,3],[3,4,5]])"
   ]
  },
  {
   "cell_type": "code",
   "execution_count": 27,
   "id": "faeb883a",
   "metadata": {},
   "outputs": [
    {
     "name": "stdout",
     "output_type": "stream",
     "text": [
      "0\n",
      "[1, 2, 3]\n",
      "6\n",
      "1\n",
      "[3, 2, 1]\n",
      "6\n",
      "6\n",
      "----------------------------------------\n",
      "0\n",
      "[1, 5]\n",
      "6\n",
      "1\n",
      "[7, 3]\n",
      "10\n",
      "2\n",
      "[3, 5]\n",
      "8\n",
      "10\n",
      "----------------------------------------\n",
      "0\n",
      "[2, 8, 7]\n",
      "17\n",
      "1\n",
      "[7, 1, 3]\n",
      "11\n",
      "2\n",
      "[1, 9, 5]\n",
      "15\n",
      "17\n"
     ]
    }
   ],
   "source": [
    "p2_example_1 = maximumaccount([[1,2,3],[3,2,1]])\n",
    "print(p2_example_1)\n",
    "print(\"----------------------------------------\")\n",
    "\n",
    "p2_example_2 = maximumaccount([[1,5],[7,3],[3,5]])\n",
    "print(p2_example_2)\n",
    "print(\"----------------------------------------\")\n",
    "\n",
    "p2_example_3 = maximumaccount([[2,8,7],[7,1,3],[1,9,5]])\n",
    "print(p2_example_3)"
   ]
  },
  {
   "cell_type": "code",
   "execution_count": 34,
   "id": "c6f641e2",
   "metadata": {},
   "outputs": [],
   "source": [
    "def shuffle(nums,n):\n",
    "    first_half=nums[:n]\n",
    "    second_half=nums[n:]\n",
    "    shuffle=[]\n",
    "    for i in range (n):\n",
    "        shuffle.append(first_half[i])\n",
    "        print(\"after adding first half = \",i, shuffle)\n",
    "        shuffle.append(second_half[i])\n",
    "        print(\"after adding second half = \",i, shuffle)\n",
    "    return shuffle\n",
    "        \n",
    "        "
   ]
  },
  {
   "cell_type": "code",
   "execution_count": 35,
   "id": "3fdf77e2",
   "metadata": {},
   "outputs": [
    {
     "name": "stdout",
     "output_type": "stream",
     "text": [
      "after adding first half =  0 [2]\n",
      "after adding second half =  0 [2, 3]\n",
      "after adding first half =  1 [2, 3, 5]\n",
      "after adding second half =  1 [2, 3, 5, 4]\n",
      "after adding first half =  2 [2, 3, 5, 4, 1]\n",
      "after adding second half =  2 [2, 3, 5, 4, 1, 7]\n",
      "[2, 3, 5, 4, 1, 7]\n",
      "----------------------------------------\n"
     ]
    }
   ],
   "source": [
    "p3_example_1 = shuffle([2,5,1,3,4,7], 3)\n",
    "print(p3_example_1)\n",
    "print(\"----------------------------------------\")"
   ]
  },
  {
   "cell_type": "code",
   "execution_count": 37,
   "id": "9a8d9932",
   "metadata": {},
   "outputs": [
    {
     "name": "stdout",
     "output_type": "stream",
     "text": [
      "after adding first half =  0 [1]\n",
      "after adding second half =  0 [1, 4]\n",
      "after adding first half =  1 [1, 4, 2]\n",
      "after adding second half =  1 [1, 4, 2, 3]\n",
      "after adding first half =  2 [1, 4, 2, 3, 3]\n",
      "after adding second half =  2 [1, 4, 2, 3, 3, 2]\n",
      "after adding first half =  3 [1, 4, 2, 3, 3, 2, 4]\n",
      "after adding second half =  3 [1, 4, 2, 3, 3, 2, 4, 1]\n",
      "[1, 4, 2, 3, 3, 2, 4, 1]\n",
      "----------------------------------------\n",
      "after adding first half =  0 [1]\n",
      "after adding second half =  0 [1, 2]\n",
      "after adding first half =  1 [1, 2, 1]\n",
      "after adding second half =  1 [1, 2, 1, 2]\n",
      "[1, 2, 1, 2]\n"
     ]
    }
   ],
   "source": [
    "p3_example_2 = shuffle([1,2,3,4,4,3,2,1], 4)\n",
    "print(p3_example_2)\n",
    "print(\"----------------------------------------\")\n",
    "\n",
    "p3_example_3 = shuffle([1,1,2,2], 2)\n",
    "print(p3_example_3)                          # ctrl+/ for all comment at a time press again to remove"
   ]
  },
  {
   "cell_type": "code",
   "execution_count": 38,
   "id": "23c78944",
   "metadata": {},
   "outputs": [],
   "source": [
    "def isPerfectSquare(num):\n",
    "    \n",
    "    print(\"square root = \", num**0.5)\n",
    "    \n",
    "    print(\"square root (integer part only) = \", int(num**0.5))\n",
    "    \n",
    "    return int(num**0.5) == num**0.5"
   ]
  },
  {
   "cell_type": "code",
   "execution_count": 40,
   "id": "e07f90c6",
   "metadata": {},
   "outputs": [
    {
     "name": "stdout",
     "output_type": "stream",
     "text": [
      "square root =  3.7416573867739413\n",
      "square root (integer part only) =  3\n",
      "False\n",
      "----------------------------------------\n",
      "square root =  4.0\n",
      "square root (integer part only) =  4\n",
      "True\n"
     ]
    }
   ],
   "source": [
    "p4_example_1 = isPerfectSquare(14)\n",
    "print(p4_example_1)\n",
    "print(\"----------------------------------------\")\n",
    "\n",
    "p4_example_2 = isPerfectSquare(16)\n",
    "print(p4_example_2)"
   ]
  },
  {
   "cell_type": "code",
   "execution_count": null,
   "id": "82016697",
   "metadata": {},
   "outputs": [],
   "source": []
  }
 ],
 "metadata": {
  "kernelspec": {
   "display_name": "Python 3 (ipykernel)",
   "language": "python",
   "name": "python3"
  },
  "language_info": {
   "codemirror_mode": {
    "name": "ipython",
    "version": 3
   },
   "file_extension": ".py",
   "mimetype": "text/x-python",
   "name": "python",
   "nbconvert_exporter": "python",
   "pygments_lexer": "ipython3",
   "version": "3.9.7"
  }
 },
 "nbformat": 4,
 "nbformat_minor": 5
}
