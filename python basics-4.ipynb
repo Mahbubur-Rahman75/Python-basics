{
 "cells": [
  {
   "cell_type": "code",
   "execution_count": 1,
   "id": "ba86ccc0",
   "metadata": {},
   "outputs": [
    {
     "name": "stdout",
     "output_type": "stream",
     "text": [
      "1\n",
      "2\n",
      "3\n",
      "4\n",
      "5\n",
      "6\n",
      "7\n",
      "8\n",
      "9\n",
      "19\n"
     ]
    }
   ],
   "source": [
    "nums=[1,2,3,4,5,6,7,8,9,19]\n",
    "for element in nums:\n",
    "    print(element)"
   ]
  },
  {
   "cell_type": "code",
   "execution_count": 2,
   "id": "d7ed1a8d",
   "metadata": {},
   "outputs": [
    {
     "name": "stdout",
     "output_type": "stream",
     "text": [
      "2\n",
      "3\n",
      "4\n",
      "5\n",
      "6\n",
      "7\n",
      "8\n",
      "9\n",
      "10\n",
      "20\n"
     ]
    }
   ],
   "source": [
    "for element in nums:\n",
    "    print(element+1)"
   ]
  },
  {
   "cell_type": "code",
   "execution_count": 5,
   "id": "73254626",
   "metadata": {},
   "outputs": [
    {
     "name": "stdout",
     "output_type": "stream",
     "text": [
      "1\n",
      "4\n",
      "9\n",
      "16\n",
      "25\n",
      "36\n",
      "49\n",
      "64\n",
      "81\n",
      "361\n"
     ]
    }
   ],
   "source": [
    "for element in nums:\n",
    "    squarelist=element*element\n",
    "    print(squarelist)\n"
   ]
  },
  {
   "cell_type": "code",
   "execution_count": 8,
   "id": "ada4d6cc",
   "metadata": {},
   "outputs": [
    {
     "name": "stdout",
     "output_type": "stream",
     "text": [
      "element: 1 square_valu: 1 suare_list: [1]\n",
      "element: 2 square_valu: 4 suare_list: [1, 4]\n",
      "element: 3 square_valu: 9 suare_list: [1, 4, 9]\n",
      "element: 4 square_valu: 16 suare_list: [1, 4, 9, 16]\n",
      "element: 5 square_valu: 25 suare_list: [1, 4, 9, 16, 25]\n",
      "element: 6 square_valu: 36 suare_list: [1, 4, 9, 16, 25, 36]\n",
      "element: 7 square_valu: 49 suare_list: [1, 4, 9, 16, 25, 36, 49]\n",
      "element: 8 square_valu: 64 suare_list: [1, 4, 9, 16, 25, 36, 49, 64]\n",
      "element: 9 square_valu: 81 suare_list: [1, 4, 9, 16, 25, 36, 49, 64, 81]\n",
      "element: 19 square_valu: 361 suare_list: [1, 4, 9, 16, 25, 36, 49, 64, 81, 361]\n",
      "element: 100 square_valu: 10000 suare_list: [1, 4, 9, 16, 25, 36, 49, 64, 81, 361, 10000]\n",
      "[1, 4, 9, 16, 25, 36, 49, 64, 81, 361, 10000]\n",
      "<class 'list'>\n"
     ]
    }
   ],
   "source": [
    "nums=[1,2,3,4,5,6,7,8,9,19,100]\n",
    "square_list=[]\n",
    "for element in nums:\n",
    "    square=element*element\n",
    "    \n",
    "    square_list.append(square)\n",
    "    print('element:',element, 'square_valu:',square, 'suare_list:',square_list)\n",
    "    \n",
    "print(square_list)\n",
    "print(type(square_list))"
   ]
  },
  {
   "cell_type": "code",
   "execution_count": 16,
   "id": "6d8d0672",
   "metadata": {},
   "outputs": [],
   "source": [
    "def sum_of_values(a,b):\n",
    "    sum=a+b\n",
    "\n",
    "    return sum\n",
    "    "
   ]
  },
  {
   "cell_type": "code",
   "execution_count": 17,
   "id": "ac41ce82",
   "metadata": {},
   "outputs": [
    {
     "data": {
      "text/plain": [
       "46"
      ]
     },
     "execution_count": 17,
     "metadata": {},
     "output_type": "execute_result"
    }
   ],
   "source": [
    "sum_of_values(23,23)"
   ]
  },
  {
   "cell_type": "code",
   "execution_count": 18,
   "id": "63452fb9",
   "metadata": {},
   "outputs": [],
   "source": [
    "def mul(a,b):\n",
    "    m=a*b\n",
    "\n",
    "    return m\n",
    "    "
   ]
  },
  {
   "cell_type": "code",
   "execution_count": 19,
   "id": "2ad0db7d",
   "metadata": {},
   "outputs": [
    {
     "data": {
      "text/plain": [
       "6"
      ]
     },
     "execution_count": 19,
     "metadata": {},
     "output_type": "execute_result"
    }
   ],
   "source": [
    "mul(2,3)"
   ]
  },
  {
   "cell_type": "code",
   "execution_count": 21,
   "id": "32a52808",
   "metadata": {},
   "outputs": [],
   "source": [
    "def square_value(input_list):\n",
    "    square_list=[]\n",
    "    for element in input_list:\n",
    "        square=element*element\n",
    "    \n",
    "        square_list.append(square)\n",
    "        print('element:',element, 'square_value:',square, 'suare_list:',square_list)\n",
    "    return square_list\n",
    "\n",
    "    "
   ]
  },
  {
   "cell_type": "code",
   "execution_count": 23,
   "id": "a7a1ccef",
   "metadata": {},
   "outputs": [
    {
     "name": "stdout",
     "output_type": "stream",
     "text": [
      "element: 1 square_value: 1 suare_list: [1]\n",
      "element: 2 square_value: 4 suare_list: [1, 4]\n",
      "element: 3 square_value: 9 suare_list: [1, 4, 9]\n",
      "element: 4 square_value: 16 suare_list: [1, 4, 9, 16]\n"
     ]
    },
    {
     "data": {
      "text/plain": [
       "[1, 4, 9, 16]"
      ]
     },
     "execution_count": 23,
     "metadata": {},
     "output_type": "execute_result"
    }
   ],
   "source": [
    "square_value([1,2,3,4])"
   ]
  },
  {
   "cell_type": "code",
   "execution_count": 24,
   "id": "5b9f1aa7",
   "metadata": {},
   "outputs": [
    {
     "name": "stdout",
     "output_type": "stream",
     "text": [
      "element: 3 square_value: 9 suare_list: [9]\n",
      "element: 45 square_value: 2025 suare_list: [9, 2025]\n",
      "element: 6 square_value: 36 suare_list: [9, 2025, 36]\n",
      "element: 7 square_value: 49 suare_list: [9, 2025, 36, 49]\n"
     ]
    },
    {
     "data": {
      "text/plain": [
       "[9, 2025, 36, 49]"
      ]
     },
     "execution_count": 24,
     "metadata": {},
     "output_type": "execute_result"
    }
   ],
   "source": [
    "square_value([3,45,6,7])"
   ]
  },
  {
   "cell_type": "code",
   "execution_count": 35,
   "id": "452a85dc",
   "metadata": {},
   "outputs": [
    {
     "name": "stdout",
     "output_type": "stream",
     "text": [
      "1 odd\n",
      "2 even\n",
      "3 odd\n",
      "4 even\n",
      "5 odd\n",
      "6 even\n",
      "7 odd\n",
      "8 even\n",
      "9 odd\n"
     ]
    }
   ],
   "source": [
    "for i in range(1,10,1):\n",
    "    if i%2 == 0:\n",
    "        print(i, 'even')\n",
    "    else:\n",
    "        print(i, 'odd')\n"
   ]
  },
  {
   "cell_type": "code",
   "execution_count": 41,
   "id": "25cee54d",
   "metadata": {},
   "outputs": [
    {
     "name": "stdout",
     "output_type": "stream",
     "text": [
      "0\n",
      "ruby\n",
      "1\n",
      "ruby\n",
      "2\n",
      "ruby\n"
     ]
    }
   ],
   "source": [
    "count=0\n",
    "while count<3:\n",
    "    print(count)\n",
    "    count=count+1\n",
    "    print('ruby')"
   ]
  },
  {
   "cell_type": "code",
   "execution_count": 45,
   "id": "17e8bfd6",
   "metadata": {},
   "outputs": [
    {
     "name": "stdout",
     "output_type": "stream",
     "text": [
      "0 divisible by 2\n",
      "1 not divisible by 2 and 3, 4\n",
      "2 divisible by 2\n",
      "3 divisible by 3\n",
      "4 divisible by 2\n",
      "5 not divisible by 2 and 3, 4\n",
      "6 divisible by 2\n",
      "7 not divisible by 2 and 3, 4\n",
      "8 divisible by 2\n",
      "9 divisible by 3\n"
     ]
    }
   ],
   "source": [
    "for i in range(0,10):\n",
    "    if i%2 == 0:\n",
    "        print(i,'divisible by 2')\n",
    "    elif i%3 == 0:\n",
    "        print(i, 'divisible by 3')\n",
    "    elif i%4 == 0:\n",
    "        print(i, 'divisible by 3')\n",
    "    else:\n",
    "        print(i,'not divisible by 2 and 3, 4')"
   ]
  },
  {
   "cell_type": "code",
   "execution_count": 47,
   "id": "5551c2c0",
   "metadata": {},
   "outputs": [
    {
     "name": "stdout",
     "output_type": "stream",
     "text": [
      "0 divisible by 2\n",
      "0 divisible by 3\n",
      "0 divisible by 4\n",
      "1 not divisible by 2\n",
      "1 not divisible by 3\n",
      "1 not divisible 4\n",
      "2 divisible by 2\n",
      "2 not divisible by 3\n",
      "2 not divisible 4\n",
      "3 not divisible by 2\n",
      "3 divisible by 3\n",
      "3 not divisible 4\n",
      "4 divisible by 2\n",
      "4 not divisible by 3\n",
      "4 divisible by 4\n",
      "5 not divisible by 2\n",
      "5 not divisible by 3\n",
      "5 not divisible 4\n",
      "6 divisible by 2\n",
      "6 divisible by 3\n",
      "6 not divisible 4\n",
      "7 not divisible by 2\n",
      "7 not divisible by 3\n",
      "7 not divisible 4\n",
      "8 divisible by 2\n",
      "8 not divisible by 3\n",
      "8 divisible by 4\n",
      "9 not divisible by 2\n",
      "9 divisible by 3\n",
      "9 not divisible 4\n"
     ]
    }
   ],
   "source": [
    "for i in range(0,10):\n",
    "    if i%2 == 0:\n",
    "        print(i,'divisible by 2')\n",
    "    else:\n",
    "        print(i, 'not divisible by 2')\n",
    "    if i%3 == 0:\n",
    "        print(i, 'divisible by 3')\n",
    "    else:\n",
    "        print(i,'not divisible by 3')\n",
    "    if i%4 == 0:\n",
    "        print(i, 'divisible by 4')\n",
    "    else:\n",
    "        print(i,'not divisible 4')"
   ]
  },
  {
   "cell_type": "code",
   "execution_count": 48,
   "id": "81faaa84",
   "metadata": {},
   "outputs": [
    {
     "name": "stdout",
     "output_type": "stream",
     "text": [
      "i: 0 i+1: 1 nums= [1] sum: 1\n",
      "i: 1 i+1: 2 nums= [1, 2] sum: 3\n",
      "i: 2 i+1: 3 nums= [1, 2, 3] sum: 6\n",
      "i: 3 i+1: 4 nums= [1, 2, 3, 4] sum: 10\n",
      "i: 4 i+1: 5 nums= [1, 2, 3, 4, 5] sum: 15\n",
      "i: 5 i+1: 6 nums= [1, 2, 3, 4, 5, 6] sum: 21\n",
      "i: 6 i+1: 7 nums= [1, 2, 3, 4, 5, 6, 7] sum: 28\n",
      "i: 7 i+1: 8 nums= [1, 2, 3, 4, 5, 6, 7, 8] sum: 36\n",
      "i: 8 i+1: 9 nums= [1, 2, 3, 4, 5, 6, 7, 8, 9] sum: 45\n",
      "[1, 3, 6, 10, 15, 21, 28, 36, 45]\n"
     ]
    }
   ],
   "source": [
    "nums=[1,2,3,4,5,6,7,8,9]  #Example of cumulative sum using for loop\n",
    "sum_list=[]\n",
    "for i in range(len(nums)):\n",
    "    print('i:',i, 'i+1:',i+1, 'nums=', nums[:i+1], 'sum:', sum(nums[:i+1]))\n",
    "    sum_list.append(sum(nums[:i+1]))\n",
    "print(sum_list)"
   ]
  },
  {
   "cell_type": "code",
   "execution_count": 53,
   "id": "eb67cd9f",
   "metadata": {},
   "outputs": [],
   "source": [
    "def sum_values(nums):\n",
    "    sum_list=[]\n",
    "    for i in range(len(nums)):\n",
    "    #for element in nums:\n",
    "        print('i:',i, 'i+1:',i+1, 'nums=', nums[:i+1], 'sum:', sum(nums[:i+1]))\n",
    "        sum_list.append(sum(nums[:i+1]))\n",
    "    return sum_list\n"
   ]
  },
  {
   "cell_type": "code",
   "execution_count": 51,
   "id": "73b6bbd9",
   "metadata": {},
   "outputs": [
    {
     "name": "stdout",
     "output_type": "stream",
     "text": [
      "i: 0 i+1: 1 nums= [1] sum: 1\n",
      "i: 1 i+1: 2 nums= [1, 2] sum: 3\n",
      "i: 2 i+1: 3 nums= [1, 2, 3] sum: 6\n",
      "i: 3 i+1: 4 nums= [1, 2, 3, 4] sum: 10\n",
      "i: 4 i+1: 5 nums= [1, 2, 3, 4, 5] sum: 15\n",
      "i: 5 i+1: 6 nums= [1, 2, 3, 4, 5, 6] sum: 21\n",
      "i: 6 i+1: 7 nums= [1, 2, 3, 4, 5, 6, 7] sum: 28\n",
      "i: 7 i+1: 8 nums= [1, 2, 3, 4, 5, 6, 7, 8] sum: 36\n",
      "i: 8 i+1: 9 nums= [1, 2, 3, 4, 5, 6, 7, 8, 9] sum: 45\n"
     ]
    },
    {
     "data": {
      "text/plain": [
       "[1, 3, 6, 10, 15, 21, 28, 36, 45]"
      ]
     },
     "execution_count": 51,
     "metadata": {},
     "output_type": "execute_result"
    }
   ],
   "source": [
    "sum_values([1,2,3,4,5,6,7,8,9])"
   ]
  },
  {
   "cell_type": "code",
   "execution_count": null,
   "id": "49904d9c",
   "metadata": {},
   "outputs": [],
   "source": []
  }
 ],
 "metadata": {
  "kernelspec": {
   "display_name": "Python 3 (ipykernel)",
   "language": "python",
   "name": "python3"
  },
  "language_info": {
   "codemirror_mode": {
    "name": "ipython",
    "version": 3
   },
   "file_extension": ".py",
   "mimetype": "text/x-python",
   "name": "python",
   "nbconvert_exporter": "python",
   "pygments_lexer": "ipython3",
   "version": "3.9.7"
  }
 },
 "nbformat": 4,
 "nbformat_minor": 5
}
