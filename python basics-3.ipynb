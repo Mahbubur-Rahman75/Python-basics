{
 "cells": [
  {
   "cell_type": "code",
   "execution_count": 16,
   "id": "a47b514d",
   "metadata": {},
   "outputs": [
    {
     "name": "stdout",
     "output_type": "stream",
     "text": [
      "[['abul', 'babul', 'cabul', 'dabul'], [1111, 2222, 3333, 4444]]\n",
      "['abul', 'babul', 'cabul', 'dabul']\n",
      "[1111, 2222, 3333, 4444]\n"
     ]
    }
   ],
   "source": [
    "name = [\"abul\", \"babul\", \"cabul\", \"dabul\"]\n",
    "contact = [1111, 2222, 3333, 4444]\n",
    "\n",
    "phone_contacts = [name, contact]\n",
    "print(phone_contacts)\n",
    "\n",
    "print(phone_contacts[0])\n",
    "print(phone_contacts[1])\n"
   ]
  },
  {
   "cell_type": "code",
   "execution_count": 7,
   "id": "06e247d0",
   "metadata": {},
   "outputs": [
    {
     "name": "stdout",
     "output_type": "stream",
     "text": [
      "cabul\n"
     ]
    }
   ],
   "source": [
    "print(phone_contacts[0][2])\n"
   ]
  },
  {
   "cell_type": "code",
   "execution_count": 8,
   "id": "a8dbddfa",
   "metadata": {},
   "outputs": [
    {
     "name": "stdout",
     "output_type": "stream",
     "text": [
      "3333\n"
     ]
    }
   ],
   "source": [
    "print(phone_contacts[1][2])"
   ]
  },
  {
   "cell_type": "code",
   "execution_count": 9,
   "id": "9dc27a58",
   "metadata": {},
   "outputs": [
    {
     "name": "stdout",
     "output_type": "stream",
     "text": [
      "2\n",
      "4\n"
     ]
    }
   ],
   "source": [
    "print(len(phone_contacts))\n",
    "print(len(phone_contacts[0]))"
   ]
  },
  {
   "cell_type": "code",
   "execution_count": 11,
   "id": "8e8d4163",
   "metadata": {},
   "outputs": [
    {
     "name": "stdout",
     "output_type": "stream",
     "text": [
      "4\n"
     ]
    }
   ],
   "source": [
    "print(len(phone_contacts[1]))"
   ]
  },
  {
   "cell_type": "code",
   "execution_count": 18,
   "id": "0c185a89",
   "metadata": {},
   "outputs": [
    {
     "data": {
      "text/plain": [
       "True"
      ]
     },
     "execution_count": 18,
     "metadata": {},
     "output_type": "execute_result"
    }
   ],
   "source": [
    "\"abul\" in name"
   ]
  },
  {
   "cell_type": "code",
   "execution_count": 20,
   "id": "f54e6b76",
   "metadata": {},
   "outputs": [
    {
     "data": {
      "text/plain": [
       "True"
      ]
     },
     "execution_count": 20,
     "metadata": {},
     "output_type": "execute_result"
    }
   ],
   "source": [
    "\"abul\" not in phone_contacts"
   ]
  },
  {
   "cell_type": "code",
   "execution_count": 21,
   "id": "15f61a1c",
   "metadata": {},
   "outputs": [
    {
     "data": {
      "text/plain": [
       "True"
      ]
     },
     "execution_count": 21,
     "metadata": {},
     "output_type": "execute_result"
    }
   ],
   "source": [
    "name in phone_contacts"
   ]
  },
  {
   "cell_type": "code",
   "execution_count": 22,
   "id": "b21a1d60",
   "metadata": {},
   "outputs": [],
   "source": [
    "x=[1,2,3,4,5]"
   ]
  },
  {
   "cell_type": "code",
   "execution_count": 26,
   "id": "1d999a64",
   "metadata": {},
   "outputs": [],
   "source": [
    "x.insert(3,3) # insert needs two arguments one for position and another for the element that we want to change"
   ]
  },
  {
   "cell_type": "code",
   "execution_count": 25,
   "id": "4f270a38",
   "metadata": {},
   "outputs": [
    {
     "data": {
      "text/plain": [
       "[1, 3, 2, 3, 4, 5]"
      ]
     },
     "execution_count": 25,
     "metadata": {},
     "output_type": "execute_result"
    }
   ],
   "source": [
    "x"
   ]
  },
  {
   "cell_type": "code",
   "execution_count": 29,
   "id": "83e21b9b",
   "metadata": {},
   "outputs": [],
   "source": [
    "x.append(12)"
   ]
  },
  {
   "cell_type": "code",
   "execution_count": 30,
   "id": "31528987",
   "metadata": {},
   "outputs": [
    {
     "data": {
      "text/plain": [
       "[1, 3, 2, 3, 3, 4, 5, 4, 12]"
      ]
     },
     "execution_count": 30,
     "metadata": {},
     "output_type": "execute_result"
    }
   ],
   "source": [
    "x"
   ]
  },
  {
   "cell_type": "code",
   "execution_count": 31,
   "id": "7ce0aff1",
   "metadata": {},
   "outputs": [],
   "source": [
    "x.reverse() # to reverse a list"
   ]
  },
  {
   "cell_type": "code",
   "execution_count": 32,
   "id": "16168314",
   "metadata": {},
   "outputs": [
    {
     "data": {
      "text/plain": [
       "[12, 4, 5, 4, 3, 3, 2, 3, 1]"
      ]
     },
     "execution_count": 32,
     "metadata": {},
     "output_type": "execute_result"
    }
   ],
   "source": [
    "x"
   ]
  },
  {
   "cell_type": "code",
   "execution_count": 33,
   "id": "42c4d3b4",
   "metadata": {},
   "outputs": [
    {
     "data": {
      "text/plain": [
       "1"
      ]
     },
     "execution_count": 33,
     "metadata": {},
     "output_type": "execute_result"
    }
   ],
   "source": [
    "x.count(1) # to count the frequency of a number"
   ]
  },
  {
   "cell_type": "code",
   "execution_count": 34,
   "id": "9d583f1a",
   "metadata": {},
   "outputs": [
    {
     "data": {
      "text/plain": [
       "2"
      ]
     },
     "execution_count": 34,
     "metadata": {},
     "output_type": "execute_result"
    }
   ],
   "source": [
    "x.count(4)"
   ]
  },
  {
   "cell_type": "code",
   "execution_count": 37,
   "id": "183ae878",
   "metadata": {},
   "outputs": [],
   "source": [
    "x.remove(4) # to remove an element from a list"
   ]
  },
  {
   "cell_type": "code",
   "execution_count": 38,
   "id": "e97f8ebf",
   "metadata": {},
   "outputs": [
    {
     "data": {
      "text/plain": [
       "[12, 5, 3, 3, 2, 3, 1]"
      ]
     },
     "execution_count": 38,
     "metadata": {},
     "output_type": "execute_result"
    }
   ],
   "source": [
    "x\n"
   ]
  },
  {
   "cell_type": "code",
   "execution_count": 39,
   "id": "2cb48fbf",
   "metadata": {},
   "outputs": [
    {
     "data": {
      "text/plain": [
       "12"
      ]
     },
     "execution_count": 39,
     "metadata": {},
     "output_type": "execute_result"
    }
   ],
   "source": [
    "max(x)"
   ]
  },
  {
   "cell_type": "code",
   "execution_count": 40,
   "id": "80a066b0",
   "metadata": {},
   "outputs": [
    {
     "data": {
      "text/plain": [
       "1"
      ]
     },
     "execution_count": 40,
     "metadata": {},
     "output_type": "execute_result"
    }
   ],
   "source": [
    "min(x)"
   ]
  },
  {
   "cell_type": "code",
   "execution_count": 41,
   "id": "bc12d712",
   "metadata": {},
   "outputs": [
    {
     "data": {
      "text/plain": [
       "29"
      ]
     },
     "execution_count": 41,
     "metadata": {},
     "output_type": "execute_result"
    }
   ],
   "source": [
    "sum(x)"
   ]
  },
  {
   "cell_type": "code",
   "execution_count": 42,
   "id": "618ead61",
   "metadata": {},
   "outputs": [
    {
     "name": "stdout",
     "output_type": "stream",
     "text": [
      "A + B =  [9, 8, 7, 6, 99, 88, 77, 66]\n"
     ]
    }
   ],
   "source": [
    "A = [9, 8, 7, 6]\n",
    "B = [99, 88, 77, 66]\n",
    "print(\"A + B = \", A + B)"
   ]
  },
  {
   "cell_type": "code",
   "execution_count": 47,
   "id": "b2a0b885",
   "metadata": {},
   "outputs": [
    {
     "data": {
      "text/plain": [
       "[6, 7, 8, 9]"
      ]
     },
     "execution_count": 47,
     "metadata": {},
     "output_type": "execute_result"
    }
   ],
   "source": [
    "sorted(A, reverse= False) #to sort a list\n"
   ]
  },
  {
   "cell_type": "code",
   "execution_count": 48,
   "id": "dbb4f59f",
   "metadata": {},
   "outputs": [
    {
     "data": {
      "text/plain": [
       "[9, 8, 7, 6]"
      ]
     },
     "execution_count": 48,
     "metadata": {},
     "output_type": "execute_result"
    }
   ],
   "source": [
    "sorted(A, reverse= True)"
   ]
  },
  {
   "cell_type": "markdown",
   "id": "d4cd05d4",
   "metadata": {},
   "source": [
    "Tuple\n",
    "tuple is used with parentheses\n",
    "tuple is immutable --> most important"
   ]
  },
  {
   "cell_type": "code",
   "execution_count": 49,
   "id": "29bb0d41",
   "metadata": {},
   "outputs": [
    {
     "name": "stdout",
     "output_type": "stream",
     "text": [
      "<class 'tuple'>\n"
     ]
    }
   ],
   "source": [
    "a = ('the', 'fault', 'in', 'our', 'stars') #()for tuple and [] for list\n",
    "print(type(a))"
   ]
  },
  {
   "cell_type": "code",
   "execution_count": 50,
   "id": "ee1c97b4",
   "metadata": {},
   "outputs": [
    {
     "data": {
      "text/plain": [
       "'the'"
      ]
     },
     "execution_count": 50,
     "metadata": {},
     "output_type": "execute_result"
    }
   ],
   "source": [
    "a[0]"
   ]
  },
  {
   "cell_type": "code",
   "execution_count": 51,
   "id": "79c0e1fa",
   "metadata": {},
   "outputs": [
    {
     "data": {
      "text/plain": [
       "'stars'"
      ]
     },
     "execution_count": 51,
     "metadata": {},
     "output_type": "execute_result"
    }
   ],
   "source": [
    "a[-1]"
   ]
  },
  {
   "cell_type": "code",
   "execution_count": 52,
   "id": "8ca4789e",
   "metadata": {},
   "outputs": [
    {
     "data": {
      "text/plain": [
       "'our'"
      ]
     },
     "execution_count": 52,
     "metadata": {},
     "output_type": "execute_result"
    }
   ],
   "source": [
    "a[-2]"
   ]
  },
  {
   "cell_type": "code",
   "execution_count": 53,
   "id": "756e0148",
   "metadata": {},
   "outputs": [
    {
     "data": {
      "text/plain": [
       "'our'"
      ]
     },
     "execution_count": 53,
     "metadata": {},
     "output_type": "execute_result"
    }
   ],
   "source": [
    "a[3]"
   ]
  },
  {
   "cell_type": "code",
   "execution_count": 54,
   "id": "7dd7c273",
   "metadata": {},
   "outputs": [
    {
     "data": {
      "text/plain": [
       "('fault', 'in', 'our')"
      ]
     },
     "execution_count": 54,
     "metadata": {},
     "output_type": "execute_result"
    }
   ],
   "source": [
    "a[1:4]"
   ]
  },
  {
   "cell_type": "code",
   "execution_count": 55,
   "id": "71bece36",
   "metadata": {},
   "outputs": [
    {
     "data": {
      "text/plain": [
       "('the', 'fault')"
      ]
     },
     "execution_count": 55,
     "metadata": {},
     "output_type": "execute_result"
    }
   ],
   "source": [
    "a[:2]"
   ]
  },
  {
   "cell_type": "code",
   "execution_count": 56,
   "id": "bdd1c346",
   "metadata": {},
   "outputs": [
    {
     "data": {
      "text/plain": [
       "('our',)"
      ]
     },
     "execution_count": 56,
     "metadata": {},
     "output_type": "execute_result"
    }
   ],
   "source": [
    "a[3:4]"
   ]
  },
  {
   "cell_type": "code",
   "execution_count": 57,
   "id": "b90948f7",
   "metadata": {},
   "outputs": [
    {
     "data": {
      "text/plain": [
       "('stars',)"
      ]
     },
     "execution_count": 57,
     "metadata": {},
     "output_type": "execute_result"
    }
   ],
   "source": [
    "a[-1:]"
   ]
  },
  {
   "cell_type": "code",
   "execution_count": 58,
   "id": "7652b0cc",
   "metadata": {},
   "outputs": [
    {
     "data": {
      "text/plain": [
       "('the', 'fault', 'in', 'our')"
      ]
     },
     "execution_count": 58,
     "metadata": {},
     "output_type": "execute_result"
    }
   ],
   "source": [
    "a[:-1]"
   ]
  },
  {
   "cell_type": "code",
   "execution_count": 59,
   "id": "2527e92d",
   "metadata": {},
   "outputs": [
    {
     "data": {
      "text/plain": [
       "('fault', 'in', 'our')"
      ]
     },
     "execution_count": 59,
     "metadata": {},
     "output_type": "execute_result"
    }
   ],
   "source": [
    "a[1:-1]"
   ]
  },
  {
   "cell_type": "code",
   "execution_count": 62,
   "id": "35881dd7",
   "metadata": {},
   "outputs": [
    {
     "data": {
      "text/plain": [
       "('stars',)"
      ]
     },
     "execution_count": 62,
     "metadata": {},
     "output_type": "execute_result"
    }
   ],
   "source": [
    "a[-1:]"
   ]
  },
  {
   "cell_type": "code",
   "execution_count": 65,
   "id": "f4ca354b",
   "metadata": {},
   "outputs": [],
   "source": [
    "T = (8, 9, 'absolute', [1, 2])\n",
    "#T[0] = 2 #will throw an error as you can't change tuple"
   ]
  },
  {
   "cell_type": "code",
   "execution_count": 66,
   "id": "20cac0c9",
   "metadata": {},
   "outputs": [
    {
     "name": "stdout",
     "output_type": "stream",
     "text": [
      "3\n",
      "7\n",
      "1\n",
      "10\n",
      "1\n"
     ]
    }
   ],
   "source": [
    "Z = (2, 7, 1)\n",
    "print(len(Z))\n",
    "print(max(Z))\n",
    "print(min(Z))\n",
    "print(sum(Z))\n",
    "print(Z.count(2))"
   ]
  },
  {
   "cell_type": "code",
   "execution_count": 67,
   "id": "8492a97a",
   "metadata": {},
   "outputs": [
    {
     "name": "stdout",
     "output_type": "stream",
     "text": [
      "{12, 13, 14}\n",
      "<class 'set'>\n",
      "3\n"
     ]
    }
   ],
   "source": [
    "A = {12, 13, 14, 12}\n",
    "print(A) \n",
    "print(type(A))\n",
    "print(len(A))"
   ]
  },
  {
   "cell_type": "code",
   "execution_count": 68,
   "id": "9a3d5749",
   "metadata": {},
   "outputs": [
    {
     "name": "stdout",
     "output_type": "stream",
     "text": [
      "[12, 13, 14]\n"
     ]
    }
   ],
   "source": [
    "# convert to list\n",
    "A_converted = list(A)\n",
    "print(A_converted)"
   ]
  },
  {
   "cell_type": "code",
   "execution_count": 69,
   "id": "e8479b92",
   "metadata": {},
   "outputs": [
    {
     "data": {
      "text/plain": [
       "[12, 13, 14]"
      ]
     },
     "execution_count": 69,
     "metadata": {},
     "output_type": "execute_result"
    }
   ],
   "source": [
    "list(A)"
   ]
  },
  {
   "cell_type": "code",
   "execution_count": 70,
   "id": "b255a426",
   "metadata": {},
   "outputs": [
    {
     "name": "stdout",
     "output_type": "stream",
     "text": [
      "{1, 2, 3, 4, 5, 7, 9}\n",
      "{1, 9, 7}\n",
      "{3, 5}\n"
     ]
    }
   ],
   "source": [
    "A = {1, 3, 5, 7, 9}\n",
    "B = {1, 2, 4, 7, 9}\n",
    "\n",
    "print(A.union(B))\n",
    "print(A.intersection(B))\n",
    "print(A.difference(B))"
   ]
  },
  {
   "cell_type": "code",
   "execution_count": 71,
   "id": "7763e182",
   "metadata": {},
   "outputs": [],
   "source": [
    "contacts={'mithu':76,'ruby':78,'misu':89}"
   ]
  },
  {
   "cell_type": "code",
   "execution_count": 72,
   "id": "2d938943",
   "metadata": {},
   "outputs": [
    {
     "data": {
      "text/plain": [
       "{'mithu': 76, 'ruby': 78, 'misu': 89}"
      ]
     },
     "execution_count": 72,
     "metadata": {},
     "output_type": "execute_result"
    }
   ],
   "source": [
    "contacts"
   ]
  },
  {
   "cell_type": "code",
   "execution_count": 73,
   "id": "1c4b5441",
   "metadata": {},
   "outputs": [
    {
     "data": {
      "text/plain": [
       "76"
      ]
     },
     "execution_count": 73,
     "metadata": {},
     "output_type": "execute_result"
    }
   ],
   "source": [
    "contacts['mithu']"
   ]
  },
  {
   "cell_type": "code",
   "execution_count": 74,
   "id": "3b8faeb3",
   "metadata": {},
   "outputs": [
    {
     "data": {
      "text/plain": [
       "dict_keys(['mithu', 'ruby', 'misu'])"
      ]
     },
     "execution_count": 74,
     "metadata": {},
     "output_type": "execute_result"
    }
   ],
   "source": [
    "contacts.keys()"
   ]
  },
  {
   "cell_type": "code",
   "execution_count": 75,
   "id": "84c60dbc",
   "metadata": {},
   "outputs": [
    {
     "data": {
      "text/plain": [
       "dict_values([76, 78, 89])"
      ]
     },
     "execution_count": 75,
     "metadata": {},
     "output_type": "execute_result"
    }
   ],
   "source": [
    "contacts.values()"
   ]
  },
  {
   "cell_type": "code",
   "execution_count": 76,
   "id": "dec6dfd3",
   "metadata": {},
   "outputs": [
    {
     "data": {
      "text/plain": [
       "dict_items([('mithu', 76), ('ruby', 78), ('misu', 89)])"
      ]
     },
     "execution_count": 76,
     "metadata": {},
     "output_type": "execute_result"
    }
   ],
   "source": [
    "contacts.items()"
   ]
  },
  {
   "cell_type": "code",
   "execution_count": 77,
   "id": "b66c02a9",
   "metadata": {},
   "outputs": [],
   "source": [
    "contacts['mithu']=[56]"
   ]
  },
  {
   "cell_type": "code",
   "execution_count": 78,
   "id": "78582ec0",
   "metadata": {},
   "outputs": [
    {
     "data": {
      "text/plain": [
       "{'mithu': [56], 'ruby': 78, 'misu': 89}"
      ]
     },
     "execution_count": 78,
     "metadata": {},
     "output_type": "execute_result"
    }
   ],
   "source": [
    "contacts"
   ]
  },
  {
   "cell_type": "code",
   "execution_count": 79,
   "id": "e4e969a5",
   "metadata": {},
   "outputs": [],
   "source": [
    "contacts['has']=[56]"
   ]
  },
  {
   "cell_type": "code",
   "execution_count": 80,
   "id": "c195c955",
   "metadata": {},
   "outputs": [
    {
     "data": {
      "text/plain": [
       "{'mithu': [56], 'ruby': 78, 'misu': 89, 'has': [56]}"
      ]
     },
     "execution_count": 80,
     "metadata": {},
     "output_type": "execute_result"
    }
   ],
   "source": [
    "contacts"
   ]
  },
  {
   "cell_type": "code",
   "execution_count": 81,
   "id": "91ea3291",
   "metadata": {},
   "outputs": [],
   "source": [
    "contacts['mas']=[333,44]"
   ]
  },
  {
   "cell_type": "code",
   "execution_count": 82,
   "id": "7468da06",
   "metadata": {},
   "outputs": [
    {
     "data": {
      "text/plain": [
       "{'mithu': [56], 'ruby': 78, 'misu': 89, 'has': [56], 'mas': [333, 44]}"
      ]
     },
     "execution_count": 82,
     "metadata": {},
     "output_type": "execute_result"
    }
   ],
   "source": [
    "contacts"
   ]
  },
  {
   "cell_type": "code",
   "execution_count": 83,
   "id": "5f18bb6b",
   "metadata": {},
   "outputs": [],
   "source": [
    "newdict={'mon':90}"
   ]
  },
  {
   "cell_type": "code",
   "execution_count": 84,
   "id": "a580f22d",
   "metadata": {},
   "outputs": [],
   "source": [
    "contacts.update(newdict) # to add a new dictionary to the existing one"
   ]
  },
  {
   "cell_type": "code",
   "execution_count": 85,
   "id": "cd9d3e76",
   "metadata": {},
   "outputs": [
    {
     "data": {
      "text/plain": [
       "{'mithu': [56],\n",
       " 'ruby': 78,\n",
       " 'misu': 89,\n",
       " 'has': [56],\n",
       " 'mas': [333, 44],\n",
       " 'mon': 90}"
      ]
     },
     "execution_count": 85,
     "metadata": {},
     "output_type": "execute_result"
    }
   ],
   "source": [
    "contacts"
   ]
  },
  {
   "cell_type": "code",
   "execution_count": 94,
   "id": "ddf4e405",
   "metadata": {},
   "outputs": [],
   "source": [
    "del contacts['ruby'] #to delete a contact"
   ]
  },
  {
   "cell_type": "code",
   "execution_count": 95,
   "id": "77db0660",
   "metadata": {},
   "outputs": [
    {
     "data": {
      "text/plain": [
       "{'misu': 89, 'has': [56], 'mas': [333, 44], 'mon': 90}"
      ]
     },
     "execution_count": 95,
     "metadata": {},
     "output_type": "execute_result"
    }
   ],
   "source": [
    "contacts"
   ]
  },
  {
   "cell_type": "code",
   "execution_count": null,
   "id": "2d2ca199",
   "metadata": {},
   "outputs": [],
   "source": []
  }
 ],
 "metadata": {
  "kernelspec": {
   "display_name": "Python 3 (ipykernel)",
   "language": "python",
   "name": "python3"
  },
  "language_info": {
   "codemirror_mode": {
    "name": "ipython",
    "version": 3
   },
   "file_extension": ".py",
   "mimetype": "text/x-python",
   "name": "python",
   "nbconvert_exporter": "python",
   "pygments_lexer": "ipython3",
   "version": "3.9.7"
  }
 },
 "nbformat": 4,
 "nbformat_minor": 5
}
