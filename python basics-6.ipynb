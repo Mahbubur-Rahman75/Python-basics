{
 "cells": [
  {
   "cell_type": "code",
   "execution_count": 1,
   "id": "19511575",
   "metadata": {},
   "outputs": [],
   "source": [
    "import math"
   ]
  },
  {
   "cell_type": "code",
   "execution_count": 2,
   "id": "ec577e75",
   "metadata": {},
   "outputs": [],
   "source": [
    "def ispoweroftwo(n):\n",
    "    x=math.log10(n)/math.log10(2)\n",
    "    print(\"x:\",x,int(x))\n",
    "    return n==2**int(x)"
   ]
  },
  {
   "cell_type": "code",
   "execution_count": 4,
   "id": "fd01dc39",
   "metadata": {},
   "outputs": [
    {
     "name": "stdout",
     "output_type": "stream",
     "text": [
      "x: 0.0 0\n",
      "True\n",
      "-----------------------------\n"
     ]
    }
   ],
   "source": [
    "p1_example_1 = ispoweroftwo(1)\n",
    "print(p1_example_1)\n",
    "\n",
    "print(\"-----------------------------\")\n"
   ]
  },
  {
   "cell_type": "code",
   "execution_count": 5,
   "id": "5d9811e8",
   "metadata": {},
   "outputs": [
    {
     "name": "stdout",
     "output_type": "stream",
     "text": [
      "x: 4.0 4\n",
      "True\n",
      "-----------------------------\n",
      "x: 1.584962500721156 1\n",
      "False\n",
      "-----------------------------\n",
      "x: 2.0 2\n",
      "True\n",
      "-----------------------------\n",
      "x: 2.3219280948873626 2\n",
      "False\n"
     ]
    }
   ],
   "source": [
    "p1_example_2 = ispoweroftwo(16)\n",
    "print(p1_example_2)\n",
    "\n",
    "print(\"-----------------------------\")\n",
    "\n",
    "p1_example_3 = ispoweroftwo(3)\n",
    "print(p1_example_3)\n",
    "\n",
    "print(\"-----------------------------\")\n",
    "\n",
    "p1_example_4 = ispoweroftwo(4)\n",
    "print(p1_example_4)\n",
    "\n",
    "print(\"-----------------------------\")\n",
    "\n",
    "p1_example_5 = ispoweroftwo(5)\n",
    "print(p1_example_5)"
   ]
  },
  {
   "cell_type": "code",
   "execution_count": 6,
   "id": "8738530f",
   "metadata": {},
   "outputs": [
    {
     "name": "stdout",
     "output_type": "stream",
     "text": [
      "x: 6.0 6\n",
      "True\n",
      "-----------------------------\n"
     ]
    }
   ],
   "source": [
    "p1_example_2 = ispoweroftwo(64)\n",
    "print(p1_example_2)\n",
    "\n",
    "print(\"-----------------------------\")"
   ]
  },
  {
   "cell_type": "code",
   "execution_count": 11,
   "id": "c1d6a862",
   "metadata": {},
   "outputs": [
    {
     "name": "stdout",
     "output_type": "stream",
     "text": [
      "the condition is valid\n",
      "the condition is valid\n",
      "the condition is valid\n",
      "the condition is valid\n",
      "the condition is valid\n",
      "error\n"
     ]
    }
   ],
   "source": [
    "nums=[1,2,3,4,5,-110]\n",
    "for element in nums:\n",
    "    if(element < -100) or (element>100):\n",
    "        print(\"error\")\n",
    "    else:\n",
    "        print('the condition is valid')"
   ]
  },
  {
   "cell_type": "code",
   "execution_count": 1,
   "id": "ed1d38db",
   "metadata": {},
   "outputs": [
    {
     "name": "stdout",
     "output_type": "stream",
     "text": [
      "the condition is valid\n",
      "the condition is valid\n",
      "the condition is valid\n",
      "the condition is valid\n",
      "the condition is valid\n",
      "error\n"
     ]
    }
   ],
   "source": [
    "nums=[1,2,3,4,5,-110]\n",
    "for i in nums:\n",
    "    if(i < -100) or (i>100):\n",
    "        print(\"error\")\n",
    "    else:\n",
    "        print('the condition is valid')"
   ]
  },
  {
   "cell_type": "code",
   "execution_count": 5,
   "id": "fb0899b6",
   "metadata": {},
   "outputs": [],
   "source": [
    "import math\n",
    "\n",
    "def isPowerOfTwo(n):\n",
    "\n",
    "    if n <= 0:\n",
    "        return False\n",
    "    else:\n",
    "\n",
    "        x = math.log10(n)/math.log10(2)\n",
    "    return n == 2**int(x)"
   ]
  },
  {
   "cell_type": "code",
   "execution_count": 7,
   "id": "b1be2798",
   "metadata": {},
   "outputs": [
    {
     "name": "stdout",
     "output_type": "stream",
     "text": [
      "False\n",
      "-----------------------------\n"
     ]
    }
   ],
   "source": [
    "p1_example_2 = isPowerOfTwo(-64)\n",
    "print(p1_example_2)\n",
    "\n",
    "print(\"-----------------------------\")"
   ]
  },
  {
   "cell_type": "code",
   "execution_count": 17,
   "id": "68a1a932",
   "metadata": {},
   "outputs": [],
   "source": [
    "def containsDuplicate(nums):\n",
    "\n",
    "    # solution 1\n",
    "    return len(nums) != len(set(nums))\n"
   ]
  },
  {
   "cell_type": "code",
   "execution_count": 18,
   "id": "203cd02b",
   "metadata": {},
   "outputs": [
    {
     "name": "stdout",
     "output_type": "stream",
     "text": [
      "True\n",
      "-----------------------------\n"
     ]
    }
   ],
   "source": [
    "p2_example_1 = containsDuplicate([1,2,3,1])\n",
    "print(p2_example_1)\n",
    "\n",
    "print(\"-----------------------------\")\n",
    "\n"
   ]
  },
  {
   "cell_type": "code",
   "execution_count": 19,
   "id": "c2f74a3b",
   "metadata": {},
   "outputs": [
    {
     "name": "stdout",
     "output_type": "stream",
     "text": [
      "False\n",
      "-----------------------------\n"
     ]
    }
   ],
   "source": [
    "p2_example_2 = containsDuplicate([1,2,3,4])\n",
    "print(p2_example_2)\n",
    "\n",
    "print(\"-----------------------------\")"
   ]
  },
  {
   "cell_type": "code",
   "execution_count": 14,
   "id": "a69303a5",
   "metadata": {},
   "outputs": [],
   "source": [
    "x=[1,2,3,1]"
   ]
  },
  {
   "cell_type": "code",
   "execution_count": 15,
   "id": "cffd7c51",
   "metadata": {},
   "outputs": [
    {
     "data": {
      "text/plain": [
       "4"
      ]
     },
     "execution_count": 15,
     "metadata": {},
     "output_type": "execute_result"
    }
   ],
   "source": [
    "len(x)"
   ]
  },
  {
   "cell_type": "code",
   "execution_count": 16,
   "id": "d1b35341",
   "metadata": {},
   "outputs": [
    {
     "data": {
      "text/plain": [
       "3"
      ]
     },
     "execution_count": 16,
     "metadata": {},
     "output_type": "execute_result"
    }
   ],
   "source": [
    "len(set(x))"
   ]
  },
  {
   "cell_type": "code",
   "execution_count": 62,
   "id": "e1361c6e",
   "metadata": {},
   "outputs": [],
   "source": [
    "def containsDuplicate(nums):\n",
    "    nums = sorted(nums)\n",
    "    print(nums)\n",
    "    for index in range(len(nums)-1):\n",
    "        #print(index,nums[index])\n",
    "        if nums[index] == nums[index+1]:\n",
    "            return True\n",
    "        \n",
    "    "
   ]
  },
  {
   "cell_type": "code",
   "execution_count": 64,
   "id": "68ebb4a5",
   "metadata": {},
   "outputs": [
    {
     "name": "stdout",
     "output_type": "stream",
     "text": [
      "[1, 2, 4, 4, 4]\n",
      "True\n",
      "-----------------------------\n"
     ]
    }
   ],
   "source": [
    "p2_example_2 = containsDuplicate([1,2,4,4,4])\n",
    "print(p2_example_2)\n",
    "\n",
    "print(\"-----------------------------\")"
   ]
  },
  {
   "cell_type": "markdown",
   "id": "afe1d8d9",
   "metadata": {},
   "source": [
    "Problem 3: Two Sum\n",
    "\n",
    "Given an array of integers nums and an integer target, return indices of the two numbers such that they add up to target.\n",
    "\n",
    "You may assume that each input would have exactly one solution, and you may not use the same element twice.\n",
    "\n",
    "You can return the answer in any order."
   ]
  },
  {
   "cell_type": "code",
   "execution_count": 84,
   "id": "eeb1f8ee",
   "metadata": {},
   "outputs": [],
   "source": [
    "def twoSum(nums,target):\n",
    "    for index in range(len(nums)):\n",
    "        goal=target-nums[index]\n",
    "        print('goal:',goal, 'current_vale',nums[index])\n",
    "        if goal in nums:\n",
    "            print('goal_index',nums.index(goal))\n",
    "            return [index,nums.index(goal)]"
   ]
  },
  {
   "cell_type": "code",
   "execution_count": 85,
   "id": "40a8460c",
   "metadata": {},
   "outputs": [
    {
     "name": "stdout",
     "output_type": "stream",
     "text": [
      "goal: 1 current_vale 2\n",
      "goal_index 2\n",
      "[0, 2]\n",
      "-----------------------------\n"
     ]
    }
   ],
   "source": [
    "p3_example_1 = twoSum([2,11,1,1,15], 3)\n",
    "print(p3_example_1)\n",
    "\n",
    "print(\"-----------------------------\")"
   ]
  },
  {
   "cell_type": "code",
   "execution_count": 108,
   "id": "931d8efe",
   "metadata": {},
   "outputs": [],
   "source": [
    "def twoSum(nums, target):\n",
    "\n",
    "    val_index_dict = {}\n",
    "\n",
    "    for index in range(0, len(nums)):\n",
    "        goal = target - nums[index]\n",
    "        print('i:',index, \"x = \", goal, \"current number y = \", nums[index])\n",
    "\n",
    "        if(goal in val_index_dict):\n",
    "            print(['val:', val_index_dict[goal],'in:',index])\n",
    "            return [val_index_dict[goal], index]\n",
    "\n",
    "        val_index_dict[nums[index]] = index\n",
    "        print(\"dictionary = \", val_index_dict)"
   ]
  },
  {
   "cell_type": "code",
   "execution_count": 109,
   "id": "039da94a",
   "metadata": {},
   "outputs": [
    {
     "name": "stdout",
     "output_type": "stream",
     "text": [
      "i: 0 x =  11 current number y =  2\n",
      "dictionary =  {2: 0}\n",
      "i: 1 x =  6 current number y =  7\n",
      "dictionary =  {2: 0, 7: 1}\n",
      "i: 2 x =  2 current number y =  11\n",
      "['val:', 0, 'in:', 2]\n",
      "[0, 2]\n"
     ]
    }
   ],
   "source": [
    "p3_example_1 = twoSum([2,7,11,15], 13)\n",
    "print(p3_example_1)\n"
   ]
  },
  {
   "cell_type": "code",
   "execution_count": 10,
   "id": "79b69741",
   "metadata": {},
   "outputs": [],
   "source": [
    "def twoSum(nums, target):\n",
    "\n",
    "    val_index_dict = {}\n",
    "\n",
    "    for index in range(0, len(nums)):\n",
    "        goal = target - nums[index]  #9-2=7\n",
    "        print(\"x = \", goal, \"y = \", nums[index]) #7,0\n",
    "\n",
    "        if(goal in val_index_dict): # 7 in dict\n",
    "            print([val_index_dict[goal], index]) #dict[7],2\n",
    "            return [val_index_dict[goal], index]\n",
    "\n",
    "        val_index_dict[nums[index]] = index\n",
    "        print(\"dictionary = \", val_index_dict)\n",
    "        "
   ]
  },
  {
   "cell_type": "code",
   "execution_count": 12,
   "id": "dc46c2e6",
   "metadata": {},
   "outputs": [
    {
     "name": "stdout",
     "output_type": "stream",
     "text": [
      "x =  -2 y =  11\n",
      "dictionary =  {11: 0}\n",
      "x =  2 y =  7\n",
      "dictionary =  {11: 0, 7: 1}\n",
      "x =  7 y =  2\n",
      "[1, 2]\n",
      "-----------------------------\n"
     ]
    }
   ],
   "source": [
    "p3_example_1 = twoSum([11,7,2,7,2,12,15], 9)\n",
    "\n",
    "\n",
    "print(\"-----------------------------\")"
   ]
  },
  {
   "cell_type": "code",
   "execution_count": 13,
   "id": "e1af4205",
   "metadata": {},
   "outputs": [
    {
     "name": "stdout",
     "output_type": "stream",
     "text": [
      "x =  3 y =  3\n",
      "dictionary =  {3: 0}\n",
      "x =  4 y =  2\n",
      "dictionary =  {3: 0, 2: 1}\n",
      "x =  2 y =  4\n",
      "[1, 2]\n",
      "-----------------------------\n"
     ]
    }
   ],
   "source": [
    "p3_example_2 = twoSum([3,2,4], 6)\n",
    "\n",
    "\n",
    "print(\"-----------------------------\")"
   ]
  },
  {
   "cell_type": "code",
   "execution_count": 36,
   "id": "36a60bf6",
   "metadata": {},
   "outputs": [],
   "source": [
    "values = {\"I\": 1,\"V\": 5,\"X\": 10,\"L\": 50,\"C\": 100,\"D\": 500,\"M\": 1000}\n",
    "\n",
    "def romanToInt(s):\n",
    "\n",
    "    total = 0\n",
    "    i = 0 #index\n",
    "    \n",
    "    while i < len(s):\n",
    "        \n",
    "        # If this is the subtractive case.\n",
    "        if i + 1 < len(s) and values[s[i]] < values[s[i + 1]]:\n",
    "\n",
    "            print(\"\\nsubtractive case\")\n",
    "            print(\"current digit, \", s[i], \" = \", values[s[i]])\n",
    "            print(\"next digit, \", s[i+1], \" = \", values[s[i+1]])\n",
    "         \n",
    "\n",
    "            total += values[s[i + 1]] - values[s[i]]\n",
    "\n",
    "            print('total_by_subtraction = ', total)\n",
    "            print(\"----------------------\")\n",
    "            i += 2\n",
    "            \n",
    "        # Else this is NOT the subtractive case.\n",
    "        else:\n",
    "            print(\"current digit, \", s[i], \" = \", values[s[i]])\n",
    "            total += values[s[i]]\n",
    "            print('total_by_addition = ', total)\n",
    "            print(\"----------------------\")\n",
    "            i += 1\n",
    "            \n",
    "\n",
    "    return total \n",
    "   \n",
    "    "
   ]
  },
  {
   "cell_type": "code",
   "execution_count": 39,
   "id": "074d5da8",
   "metadata": {},
   "outputs": [
    {
     "name": "stdout",
     "output_type": "stream",
     "text": [
      "current digit,  M  =  1000\n",
      "total_by_addition =  1000\n",
      "----------------------\n",
      "\n",
      "subtractive case\n",
      "current digit,  C  =  100\n",
      "next digit,  M  =  1000\n",
      "total_by_subtraction =  1900\n",
      "----------------------\n",
      "\n",
      "subtractive case\n",
      "current digit,  X  =  10\n",
      "next digit,  C  =  100\n",
      "total_by_subtraction =  1990\n",
      "----------------------\n",
      "\n",
      "subtractive case\n",
      "current digit,  I  =  1\n",
      "next digit,  V  =  5\n",
      "total_by_subtraction =  1994\n",
      "----------------------\n",
      "1994\n"
     ]
    }
   ],
   "source": [
    "p4_example_5 = romanToInt(\"MCMXCIV\")\n",
    "print(p4_example_5)"
   ]
  },
  {
   "cell_type": "code",
   "execution_count": 38,
   "id": "dbbb62ac",
   "metadata": {},
   "outputs": [
    {
     "name": "stdout",
     "output_type": "stream",
     "text": [
      "\n",
      "subtractive case\n",
      "current digit,  I  =  1\n",
      "next digit,  X  =  10\n",
      "total_by_subtraction =  9\n",
      "----------------------\n",
      "9\n",
      "-----------------------------------------------\n"
     ]
    }
   ],
   "source": [
    "p4_example_3 = romanToInt(\"IX\")\n",
    "print(p4_example_3)\n",
    "\n",
    "print(\"-----------------------------------------------\")"
   ]
  },
  {
   "cell_type": "code",
   "execution_count": 37,
   "id": "5ad651f3",
   "metadata": {},
   "outputs": [
    {
     "name": "stdout",
     "output_type": "stream",
     "text": [
      "current digit,  L  =  50\n",
      "total_by_addition =  50\n",
      "----------------------\n",
      "current digit,  V  =  5\n",
      "total_by_addition =  55\n",
      "----------------------\n",
      "current digit,  I  =  1\n",
      "total_by_addition =  56\n",
      "----------------------\n",
      "current digit,  I  =  1\n",
      "total_by_addition =  57\n",
      "----------------------\n",
      "current digit,  I  =  1\n",
      "total_by_addition =  58\n",
      "----------------------\n",
      "58\n",
      "-----------------------------------------------\n"
     ]
    }
   ],
   "source": [
    "p4_example_4 = romanToInt(\"LVIII\")\n",
    "print(p4_example_4)\n",
    "\n",
    "print(\"-----------------------------------------------\")"
   ]
  },
  {
   "cell_type": "code",
   "execution_count": 33,
   "id": "41ca1924",
   "metadata": {},
   "outputs": [
    {
     "name": "stdout",
     "output_type": "stream",
     "text": [
      "current digit,  I  =  1\n",
      "total_by_addition =  1\n",
      "----------------------\n",
      "current digit,  I  =  1\n",
      "total_by_addition =  2\n",
      "----------------------\n",
      "current digit,  I  =  1\n",
      "total_by_addition =  3\n",
      "----------------------\n",
      "-----------------------------------------------\n"
     ]
    }
   ],
   "source": [
    "p4_example_1 = romanToInt(\"III\")\n",
    "\n",
    "\n",
    "\n",
    "print(\"-----------------------------------------------\")"
   ]
  },
  {
   "cell_type": "code",
   "execution_count": 34,
   "id": "af86977a",
   "metadata": {},
   "outputs": [],
   "source": [
    "s=('III')"
   ]
  },
  {
   "cell_type": "code",
   "execution_count": 35,
   "id": "bcc94c7d",
   "metadata": {},
   "outputs": [
    {
     "data": {
      "text/plain": [
       "'I'"
      ]
     },
     "execution_count": 35,
     "metadata": {},
     "output_type": "execute_result"
    }
   ],
   "source": [
    "s[0]"
   ]
  },
  {
   "cell_type": "code",
   "execution_count": 23,
   "id": "cd033934",
   "metadata": {},
   "outputs": [
    {
     "name": "stdout",
     "output_type": "stream",
     "text": [
      "\n",
      "subtractive case\n",
      "current digit,  I  =  1\n",
      "next digit,  V  =  5\n",
      "total_by_subtraction =  4\n",
      "----------------------\n",
      "\n",
      "4\n",
      "-----------------------------------------------\n"
     ]
    }
   ],
   "source": [
    "p4_example_2 = romanToInt(\"IV\")\n",
    "print(p4_example_2)\n",
    "\n",
    "print(\"-----------------------------------------------\")"
   ]
  },
  {
   "cell_type": "code",
   "execution_count": 54,
   "id": "31e5d937",
   "metadata": {},
   "outputs": [],
   "source": [
    "def uniqueMorseRepresentations(words):\n",
    "\n",
    "    morse = {'a':\".-\", 'b':\"-...\", 'c':\"-.-.\", 'd':\"-..\", 'e':\".\",\n",
    "            'f':\"..-.\", 'g':\"--.\", 'h':\"....\", 'i':\"..\", 'j':\".---\",\n",
    "            'k':\"-.-\", 'l':\".-..\", 'm':\"--\", 'n':\"-.\", 'o':\"---\",\n",
    "             'p':\".--.\", 'q':\"--.-\", 'r':\".-.\", 's':\"...\", 't':\"-\",\n",
    "             'u':\"..-\", 'v':\"...-\", 'w':\".--\", 'x':\"-..-\", 'y':\"-.--\",\n",
    "             'z':\"--..\"}\n",
    "\n",
    "    morse_signal = \"\"\n",
    "    morse_list = []\n",
    "    \n",
    "    for word in words:\n",
    "        for char in word:\n",
    "            morse_signal += morse[char]\n",
    "\n",
    "        morse_list.append(morse_signal)\n",
    "        morse_signal = \"\"\n",
    "        print(morse_list)\n",
    "\n",
    "    return len(set(morse_list))\n",
    "    "
   ]
  },
  {
   "cell_type": "code",
   "execution_count": 58,
   "id": "d70986fc",
   "metadata": {},
   "outputs": [
    {
     "name": "stdout",
     "output_type": "stream",
     "text": [
      "['--...-.']\n",
      "['--...-.', '--...-.']\n",
      "['--...-.', '--...-.', '--...--.']\n",
      "['--...-.', '--...-.', '--...--.', '--...--.']\n",
      "2\n"
     ]
    }
   ],
   "source": [
    "p5_example = uniqueMorseRepresentations([\"gin\", \"zen\", \"gig\", \"msg\"])\n",
    "print(p5_example)"
   ]
  },
  {
   "cell_type": "code",
   "execution_count": null,
   "id": "179041b9",
   "metadata": {},
   "outputs": [],
   "source": []
  },
  {
   "cell_type": "code",
   "execution_count": null,
   "id": "6f78a894",
   "metadata": {},
   "outputs": [],
   "source": []
  }
 ],
 "metadata": {
  "kernelspec": {
   "display_name": "Python 3 (ipykernel)",
   "language": "python",
   "name": "python3"
  },
  "language_info": {
   "codemirror_mode": {
    "name": "ipython",
    "version": 3
   },
   "file_extension": ".py",
   "mimetype": "text/x-python",
   "name": "python",
   "nbconvert_exporter": "python",
   "pygments_lexer": "ipython3",
   "version": "3.9.7"
  }
 },
 "nbformat": 4,
 "nbformat_minor": 5
}
