{
 "cells": [
  {
   "cell_type": "code",
   "execution_count": 20,
   "id": "4ef88d73",
   "metadata": {},
   "outputs": [
    {
     "name": "stdout",
     "output_type": "stream",
     "text": [
      "<class 'numpy.ndarray'>\n",
      "[1 2 3 4 5 6]\n"
     ]
    }
   ],
   "source": [
    "import numpy as np\n",
    "arr_1=np.array([1,2,3,4,5,6])\n",
    "print(type(arr_1))\n",
    "print(arr_1)\n"
   ]
  },
  {
   "cell_type": "code",
   "execution_count": 21,
   "id": "a9450289",
   "metadata": {},
   "outputs": [],
   "source": [
    "arr_1 = np.array([1,2,3,4,5,6,7,8,9])\n",
    "arr_2 = np.array([1,-2,3,-8,5,-6,7,-8,9])"
   ]
  },
  {
   "cell_type": "code",
   "execution_count": 22,
   "id": "9e55f09d",
   "metadata": {},
   "outputs": [
    {
     "name": "stdout",
     "output_type": "stream",
     "text": [
      "<class 'numpy.ndarray'>\n",
      "<class 'numpy.ndarray'>\n",
      "int32\n"
     ]
    }
   ],
   "source": [
    "print(type(arr_1))\n",
    "print(type(arr_2))\n",
    "print(arr_2.dtype)"
   ]
  },
  {
   "cell_type": "code",
   "execution_count": 23,
   "id": "48a47cd7",
   "metadata": {},
   "outputs": [
    {
     "name": "stdout",
     "output_type": "stream",
     "text": [
      "addition of two array =  [ 2  0  6 -4 10  0 14  0 18]\n",
      "<class 'numpy.ndarray'>\n"
     ]
    }
   ],
   "source": [
    "arr_add = arr_1 + arr_2\n",
    "print(\"addition of two array = \", arr_add)\n",
    "print(type(arr_add))"
   ]
  },
  {
   "cell_type": "code",
   "execution_count": 24,
   "id": "5344863a",
   "metadata": {},
   "outputs": [
    {
     "name": "stdout",
     "output_type": "stream",
     "text": [
      "subtraction of two array =  [ 0  4  0 12  0 12  0 16  0]\n"
     ]
    }
   ],
   "source": [
    "arr_sub = arr_1 - arr_2\n",
    "print(\"subtraction of two array = \", arr_sub)"
   ]
  },
  {
   "cell_type": "code",
   "execution_count": 25,
   "id": "c5e34ce8",
   "metadata": {},
   "outputs": [
    {
     "name": "stdout",
     "output_type": "stream",
     "text": [
      "[ 2  0  6 -4 10  0 14  0 18]\n"
     ]
    }
   ],
   "source": [
    "arr_add = np.add(arr_1, arr_2)\n",
    "print(arr_add)"
   ]
  },
  {
   "cell_type": "code",
   "execution_count": 26,
   "id": "6bd2854e",
   "metadata": {},
   "outputs": [
    {
     "name": "stdout",
     "output_type": "stream",
     "text": [
      "[ 0  4  0 12  0 12  0 16  0]\n"
     ]
    }
   ],
   "source": [
    "arr_subtract = np.subtract(arr_1, arr_2)\n",
    "print(arr_subtract)"
   ]
  },
  {
   "cell_type": "code",
   "execution_count": 27,
   "id": "c79e22f5",
   "metadata": {},
   "outputs": [
    {
     "name": "stdout",
     "output_type": "stream",
     "text": [
      "[  1  -4   9 -32  25 -36  49 -64  81]\n"
     ]
    }
   ],
   "source": [
    "arr_mul = np.multiply(arr_1, arr_2)\n",
    "print(arr_mul)"
   ]
  },
  {
   "cell_type": "code",
   "execution_count": 28,
   "id": "6b6f2df4",
   "metadata": {},
   "outputs": [
    {
     "name": "stdout",
     "output_type": "stream",
     "text": [
      "subtraction of two array =  [  1  -4   9 -32  25 -36  49 -64  81]\n"
     ]
    }
   ],
   "source": [
    "arr_mul = arr_1*arr_2\n",
    "print(\"subtraction of two array = \", arr_mul)"
   ]
  },
  {
   "cell_type": "code",
   "execution_count": 29,
   "id": "178fb4d9",
   "metadata": {},
   "outputs": [
    {
     "name": "stdout",
     "output_type": "stream",
     "text": [
      "division of two array =  [ 1.  -1.   1.  -0.5  1.  -1.   1.  -1.   1. ]\n",
      "[ 1.  -1.   1.  -0.5  1.  -1.   1.  -1.   1. ]\n"
     ]
    }
   ],
   "source": [
    "arr_div = arr_1 / arr_2\n",
    "print(\"division of two array = \", arr_div)\n",
    "\n",
    "arr_div = np.divide(arr_1, arr_2)\n",
    "print(arr_div)"
   ]
  },
  {
   "cell_type": "code",
   "execution_count": 30,
   "id": "1a270cd6",
   "metadata": {},
   "outputs": [
    {
     "name": "stdout",
     "output_type": "stream",
     "text": [
      "remainder after dividing two arrays =  [ 0  0  0 -4  0  0  0  0  0]\n"
     ]
    }
   ],
   "source": [
    "arr_mod = np.mod(arr_1, arr_2)\n",
    "print(\"remainder after dividing two arrays = \", arr_mod)"
   ]
  },
  {
   "cell_type": "code",
   "execution_count": 31,
   "id": "c82a8094",
   "metadata": {},
   "outputs": [
    {
     "data": {
      "text/plain": [
       "45"
      ]
     },
     "execution_count": 31,
     "metadata": {},
     "output_type": "execute_result"
    }
   ],
   "source": [
    "sum(arr_1)"
   ]
  },
  {
   "cell_type": "code",
   "execution_count": 32,
   "id": "b8b51d46",
   "metadata": {},
   "outputs": [],
   "source": [
    "a=[1,2,3]\n",
    "b=[3,4,5]"
   ]
  },
  {
   "cell_type": "markdown",
   "id": "af89b100",
   "metadata": {},
   "source": [
    "sum(a)"
   ]
  },
  {
   "cell_type": "code",
   "execution_count": 33,
   "id": "274ab29f",
   "metadata": {},
   "outputs": [
    {
     "data": {
      "text/plain": [
       "6"
      ]
     },
     "execution_count": 33,
     "metadata": {},
     "output_type": "execute_result"
    }
   ],
   "source": [
    "sum(a)"
   ]
  },
  {
   "cell_type": "code",
   "execution_count": 34,
   "id": "6ecfe293",
   "metadata": {},
   "outputs": [],
   "source": [
    "arr_3 = np.array([[1,2,3], \n",
    "                  [4,5,6]])\n",
    "\n",
    "arr_4 = np.array([[1,2,3], \n",
    "                  [4,5,6]])"
   ]
  },
  {
   "cell_type": "code",
   "execution_count": 35,
   "id": "2233a150",
   "metadata": {},
   "outputs": [
    {
     "name": "stdout",
     "output_type": "stream",
     "text": [
      "array_3 = \n",
      " [[1 2 3]\n",
      " [4 5 6]]\n"
     ]
    }
   ],
   "source": [
    "print(\"array_3 = \\n\",arr_3)"
   ]
  },
  {
   "cell_type": "code",
   "execution_count": 36,
   "id": "98909a6d",
   "metadata": {},
   "outputs": [
    {
     "name": "stdout",
     "output_type": "stream",
     "text": [
      "arr4=  \n",
      " [[1 2 3]\n",
      " [4 5 6]]\n"
     ]
    }
   ],
   "source": [
    "print('arr4=  \\n',arr_4)"
   ]
  },
  {
   "cell_type": "code",
   "execution_count": 37,
   "id": "eb147001",
   "metadata": {},
   "outputs": [
    {
     "data": {
      "text/plain": [
       "(2, 3)"
      ]
     },
     "execution_count": 37,
     "metadata": {},
     "output_type": "execute_result"
    }
   ],
   "source": [
    "arr_3.shape"
   ]
  },
  {
   "cell_type": "code",
   "execution_count": 38,
   "id": "ec8b6126",
   "metadata": {},
   "outputs": [
    {
     "data": {
      "text/plain": [
       "(2, 3)"
      ]
     },
     "execution_count": 38,
     "metadata": {},
     "output_type": "execute_result"
    }
   ],
   "source": [
    "arr_4.shape"
   ]
  },
  {
   "cell_type": "code",
   "execution_count": 39,
   "id": "6025c2b6",
   "metadata": {},
   "outputs": [
    {
     "name": "stdout",
     "output_type": "stream",
     "text": [
      "2d array addition = \n",
      " [[ 2  4  6]\n",
      " [ 8 10 12]]\n",
      "2d array multiplication = \n",
      " [[ 1  4  9]\n",
      " [16 25 36]]\n"
     ]
    }
   ],
   "source": [
    "arr2d_add = arr_3 + arr_4\n",
    "print(\"2d array addition = \\n\", arr2d_add)\n",
    "\n",
    "arr2d_mul = arr_3 * arr_4   # this is element wise multiplication not matrix multiplication\n",
    "print(\"2d array multiplication = \\n\", arr2d_mul)"
   ]
  },
  {
   "cell_type": "code",
   "execution_count": 40,
   "id": "eb740335",
   "metadata": {},
   "outputs": [],
   "source": [
    "arr_3 = np.array([[1,2,3], \n",
    "                  [4,5,6]])\n",
    "\n",
    "arr_4 = np.array([[1,2,3], \n",
    "                  [4,5,6],\n",
    "                 [2,3,4]])"
   ]
  },
  {
   "cell_type": "code",
   "execution_count": 41,
   "id": "d687b369",
   "metadata": {},
   "outputs": [
    {
     "name": "stdout",
     "output_type": "stream",
     "text": [
      "[[15 21 27]\n",
      " [36 51 66]]\n"
     ]
    }
   ],
   "source": [
    "arr_matmul=np.matmul(arr_3,arr_4)\n",
    "print(arr_matmul)"
   ]
  },
  {
   "cell_type": "code",
   "execution_count": 42,
   "id": "ca5590e0",
   "metadata": {},
   "outputs": [
    {
     "data": {
      "text/plain": [
       "(3, 3)"
      ]
     },
     "execution_count": 42,
     "metadata": {},
     "output_type": "execute_result"
    }
   ],
   "source": [
    "arr_4.shape"
   ]
  },
  {
   "cell_type": "code",
   "execution_count": 43,
   "id": "c17d4e8e",
   "metadata": {},
   "outputs": [],
   "source": [
    "idmatrix=np.array([[1,0,0],[0,1,0],[0,0,1]])"
   ]
  },
  {
   "cell_type": "code",
   "execution_count": 44,
   "id": "9b34f494",
   "metadata": {},
   "outputs": [
    {
     "name": "stdout",
     "output_type": "stream",
     "text": [
      "[[1 0 0]\n",
      " [0 1 0]\n",
      " [0 0 1]]\n"
     ]
    }
   ],
   "source": [
    "print(idmatrix)"
   ]
  },
  {
   "cell_type": "code",
   "execution_count": 45,
   "id": "d8d85151",
   "metadata": {},
   "outputs": [],
   "source": [
    "idmatrix1=np.eye(3)"
   ]
  },
  {
   "cell_type": "code",
   "execution_count": 46,
   "id": "f78a99e4",
   "metadata": {},
   "outputs": [
    {
     "name": "stdout",
     "output_type": "stream",
     "text": [
      "[[1 0 0]\n",
      " [0 1 0]\n",
      " [0 0 1]]\n"
     ]
    }
   ],
   "source": [
    "print(idmatrix)"
   ]
  },
  {
   "cell_type": "code",
   "execution_count": 47,
   "id": "2cabd4c1",
   "metadata": {},
   "outputs": [],
   "source": [
    "idmatrix=np.ones((3,3))"
   ]
  },
  {
   "cell_type": "code",
   "execution_count": 48,
   "id": "ab822a5b",
   "metadata": {},
   "outputs": [
    {
     "name": "stdout",
     "output_type": "stream",
     "text": [
      "[[1. 1. 1.]\n",
      " [1. 1. 1.]\n",
      " [1. 1. 1.]]\n"
     ]
    }
   ],
   "source": [
    "print(idmatrix)"
   ]
  },
  {
   "cell_type": "code",
   "execution_count": 49,
   "id": "1f2ea95e",
   "metadata": {},
   "outputs": [],
   "source": [
    "x=np.matmul(idmatrix1,idmatrix)"
   ]
  },
  {
   "cell_type": "code",
   "execution_count": 50,
   "id": "9bc5c91a",
   "metadata": {},
   "outputs": [
    {
     "data": {
      "text/plain": [
       "array([[1., 1., 1.],\n",
       "       [1., 1., 1.],\n",
       "       [1., 1., 1.]])"
      ]
     },
     "execution_count": 50,
     "metadata": {},
     "output_type": "execute_result"
    }
   ],
   "source": [
    "x"
   ]
  },
  {
   "cell_type": "code",
   "execution_count": 51,
   "id": "d810e7ee",
   "metadata": {},
   "outputs": [],
   "source": [
    "w=np.sum([idmatrix1,idmatrix])"
   ]
  },
  {
   "cell_type": "code",
   "execution_count": 52,
   "id": "55caf9d4",
   "metadata": {},
   "outputs": [
    {
     "data": {
      "text/plain": [
       "12.0"
      ]
     },
     "execution_count": 52,
     "metadata": {},
     "output_type": "execute_result"
    }
   ],
   "source": [
    "w"
   ]
  },
  {
   "cell_type": "code",
   "execution_count": 53,
   "id": "33e1a248",
   "metadata": {},
   "outputs": [],
   "source": [
    "w=np.sum([idmatrix1,idmatrix], axis=0)"
   ]
  },
  {
   "cell_type": "code",
   "execution_count": 54,
   "id": "be1794ec",
   "metadata": {},
   "outputs": [
    {
     "data": {
      "text/plain": [
       "array([[2., 1., 1.],\n",
       "       [1., 2., 1.],\n",
       "       [1., 1., 2.]])"
      ]
     },
     "execution_count": 54,
     "metadata": {},
     "output_type": "execute_result"
    }
   ],
   "source": [
    "w"
   ]
  },
  {
   "cell_type": "code",
   "execution_count": 55,
   "id": "66bafb18",
   "metadata": {},
   "outputs": [],
   "source": [
    "w=np.sum([idmatrix1,idmatrix], axis=1)"
   ]
  },
  {
   "cell_type": "code",
   "execution_count": 56,
   "id": "6c7ea6a3",
   "metadata": {},
   "outputs": [
    {
     "data": {
      "text/plain": [
       "array([[1., 1., 1.],\n",
       "       [3., 3., 3.]])"
      ]
     },
     "execution_count": 56,
     "metadata": {},
     "output_type": "execute_result"
    }
   ],
   "source": [
    "w"
   ]
  },
  {
   "cell_type": "code",
   "execution_count": 57,
   "id": "ab6b9608",
   "metadata": {},
   "outputs": [],
   "source": [
    "idmatrix1=np.eye(3)\n",
    "idmatrix=np.ones((3,3))"
   ]
  },
  {
   "cell_type": "code",
   "execution_count": 58,
   "id": "210db989",
   "metadata": {},
   "outputs": [],
   "source": [
    "w=np.sum([idmatrix1,idmatrix], axis=1)"
   ]
  },
  {
   "cell_type": "code",
   "execution_count": 59,
   "id": "cb156fd1",
   "metadata": {},
   "outputs": [
    {
     "data": {
      "text/plain": [
       "array([[1., 1., 1.],\n",
       "       [3., 3., 3.]])"
      ]
     },
     "execution_count": 59,
     "metadata": {},
     "output_type": "execute_result"
    }
   ],
   "source": [
    "w"
   ]
  },
  {
   "cell_type": "code",
   "execution_count": 60,
   "id": "323ddb74",
   "metadata": {},
   "outputs": [],
   "source": [
    "w=np.prod([idmatrix1,idmatrix], axis=0) # for column"
   ]
  },
  {
   "cell_type": "code",
   "execution_count": 61,
   "id": "34e0dfef",
   "metadata": {},
   "outputs": [
    {
     "data": {
      "text/plain": [
       "array([[1., 0., 0.],\n",
       "       [0., 1., 0.],\n",
       "       [0., 0., 1.]])"
      ]
     },
     "execution_count": 61,
     "metadata": {},
     "output_type": "execute_result"
    }
   ],
   "source": [
    "w\n"
   ]
  },
  {
   "cell_type": "code",
   "execution_count": 62,
   "id": "ed6a3dbf",
   "metadata": {},
   "outputs": [],
   "source": [
    "w=np.prod([idmatrix1,idmatrix], axis=1) #for row prod"
   ]
  },
  {
   "cell_type": "code",
   "execution_count": 63,
   "id": "9953ec4e",
   "metadata": {},
   "outputs": [
    {
     "data": {
      "text/plain": [
       "array([[0., 0., 0.],\n",
       "       [1., 1., 1.]])"
      ]
     },
     "execution_count": 63,
     "metadata": {},
     "output_type": "execute_result"
    }
   ],
   "source": [
    "w"
   ]
  },
  {
   "cell_type": "code",
   "execution_count": 64,
   "id": "1261874b",
   "metadata": {},
   "outputs": [
    {
     "name": "stdout",
     "output_type": "stream",
     "text": [
      "[[1. 1. 1.]\n",
      " [1. 1. 1.]\n",
      " [1. 1. 1.]]\n"
     ]
    }
   ],
   "source": [
    "print(idmatrix)"
   ]
  },
  {
   "cell_type": "code",
   "execution_count": 97,
   "id": "ffda31fd",
   "metadata": {},
   "outputs": [],
   "source": [
    "x=np.array([[1,2,3,4],[4,5,6,7]])"
   ]
  },
  {
   "cell_type": "code",
   "execution_count": 98,
   "id": "6a7d07b4",
   "metadata": {},
   "outputs": [
    {
     "data": {
      "text/plain": [
       "array([[1, 2, 3, 4],\n",
       "       [4, 5, 6, 7]])"
      ]
     },
     "execution_count": 98,
     "metadata": {},
     "output_type": "execute_result"
    }
   ],
   "source": [
    "x"
   ]
  },
  {
   "cell_type": "code",
   "execution_count": 67,
   "id": "1ef5abdd",
   "metadata": {},
   "outputs": [
    {
     "data": {
      "text/plain": [
       "array([1, 2, 3, 4])"
      ]
     },
     "execution_count": 67,
     "metadata": {},
     "output_type": "execute_result"
    }
   ],
   "source": [
    "x[0]"
   ]
  },
  {
   "cell_type": "code",
   "execution_count": 68,
   "id": "8fff1010",
   "metadata": {},
   "outputs": [
    {
     "data": {
      "text/plain": [
       "array([4, 5, 6, 7])"
      ]
     },
     "execution_count": 68,
     "metadata": {},
     "output_type": "execute_result"
    }
   ],
   "source": [
    "x[1]"
   ]
  },
  {
   "cell_type": "code",
   "execution_count": 69,
   "id": "bf19e95a",
   "metadata": {},
   "outputs": [
    {
     "data": {
      "text/plain": [
       "1"
      ]
     },
     "execution_count": 69,
     "metadata": {},
     "output_type": "execute_result"
    }
   ],
   "source": [
    "x[0][0]"
   ]
  },
  {
   "cell_type": "code",
   "execution_count": 70,
   "id": "a55232d8",
   "metadata": {},
   "outputs": [
    {
     "data": {
      "text/plain": [
       "7"
      ]
     },
     "execution_count": 70,
     "metadata": {},
     "output_type": "execute_result"
    }
   ],
   "source": [
    "x[1][3]"
   ]
  },
  {
   "cell_type": "code",
   "execution_count": 71,
   "id": "474d488d",
   "metadata": {},
   "outputs": [
    {
     "name": "stdout",
     "output_type": "stream",
     "text": [
      "2\n"
     ]
    }
   ],
   "source": [
    "print(x[0,1])"
   ]
  },
  {
   "cell_type": "code",
   "execution_count": 72,
   "id": "38a3aff9",
   "metadata": {},
   "outputs": [
    {
     "name": "stdout",
     "output_type": "stream",
     "text": [
      "[[2 3 4]\n",
      " [5 6 7]]\n"
     ]
    }
   ],
   "source": [
    "print(x[0:,1:]) # from first row to every row that exists and print from first column to last for every row"
   ]
  },
  {
   "cell_type": "code",
   "execution_count": 73,
   "id": "7b76ecf1",
   "metadata": {},
   "outputs": [
    {
     "name": "stdout",
     "output_type": "stream",
     "text": [
      "[2 5]\n"
     ]
    }
   ],
   "source": [
    "print(x[0:,1]) # from first row to every row print the first column element"
   ]
  },
  {
   "cell_type": "code",
   "execution_count": 99,
   "id": "49e4d358",
   "metadata": {},
   "outputs": [
    {
     "name": "stdout",
     "output_type": "stream",
     "text": [
      "[[3 4]\n",
      " [6 7]]\n"
     ]
    }
   ],
   "source": [
    "print(x[0:2,2:4])"
   ]
  },
  {
   "cell_type": "code",
   "execution_count": 104,
   "id": "2ce16eab",
   "metadata": {},
   "outputs": [
    {
     "name": "stdout",
     "output_type": "stream",
     "text": [
      "[[3]]\n"
     ]
    }
   ],
   "source": [
    "print(x[:1,2:3])"
   ]
  },
  {
   "cell_type": "code",
   "execution_count": 76,
   "id": "722b2306",
   "metadata": {},
   "outputs": [
    {
     "name": "stdout",
     "output_type": "stream",
     "text": [
      "[3]\n"
     ]
    }
   ],
   "source": [
    "print(x[:1,2])"
   ]
  },
  {
   "cell_type": "code",
   "execution_count": 77,
   "id": "263f1ef3",
   "metadata": {},
   "outputs": [
    {
     "name": "stdout",
     "output_type": "stream",
     "text": [
      "[[1 2 3 4]\n",
      " [4 5 6 7]]\n"
     ]
    }
   ],
   "source": [
    "print(x[:,:]) #print all"
   ]
  },
  {
   "cell_type": "code",
   "execution_count": 78,
   "id": "92b43cd1",
   "metadata": {},
   "outputs": [
    {
     "name": "stdout",
     "output_type": "stream",
     "text": [
      "[1 5]\n"
     ]
    }
   ],
   "source": [
    "arr_diag = np.diag(x) # to show diagonal element\n",
    "print(arr_diag)"
   ]
  },
  {
   "cell_type": "code",
   "execution_count": 79,
   "id": "d25aad92",
   "metadata": {},
   "outputs": [
    {
     "data": {
      "text/plain": [
       "(array([0, 1, 2, 3, 4, 5], dtype=int64),)"
      ]
     },
     "execution_count": 79,
     "metadata": {},
     "output_type": "execute_result"
    }
   ],
   "source": [
    "arr_f=np.array([1,2,3,4,5,5,6])\n",
    "x=np.where(arr_f<=5)  # for filtering\n",
    "x"
   ]
  },
  {
   "cell_type": "code",
   "execution_count": 80,
   "id": "4cd297d2",
   "metadata": {},
   "outputs": [
    {
     "data": {
      "text/plain": [
       "(array([4, 5], dtype=int64),)"
      ]
     },
     "execution_count": 80,
     "metadata": {},
     "output_type": "execute_result"
    }
   ],
   "source": [
    "arr_f=np.array([1,2,3,4,5,5,6])\n",
    "x=np.where(arr_f==5)\n",
    "x"
   ]
  },
  {
   "cell_type": "code",
   "execution_count": 81,
   "id": "2e4b9d3b",
   "metadata": {},
   "outputs": [
    {
     "data": {
      "text/plain": [
       "(array([4, 5, 6], dtype=int64),)"
      ]
     },
     "execution_count": 81,
     "metadata": {},
     "output_type": "execute_result"
    }
   ],
   "source": [
    "arr_f=np.array([1,2,3,4,5,5,6])\n",
    "x=np.where(arr_f>=5)\n",
    "x"
   ]
  },
  {
   "cell_type": "code",
   "execution_count": 82,
   "id": "549de2e5",
   "metadata": {},
   "outputs": [],
   "source": [
    "x=arr_f[arr_f>=5]"
   ]
  },
  {
   "cell_type": "code",
   "execution_count": 83,
   "id": "581099a2",
   "metadata": {},
   "outputs": [
    {
     "data": {
      "text/plain": [
       "array([5, 5, 6])"
      ]
     },
     "execution_count": 83,
     "metadata": {},
     "output_type": "execute_result"
    }
   ],
   "source": [
    "x"
   ]
  },
  {
   "cell_type": "code",
   "execution_count": 84,
   "id": "2fcf6ef2",
   "metadata": {},
   "outputs": [
    {
     "name": "stdout",
     "output_type": "stream",
     "text": [
      "[False False False False  True  True  True]\n"
     ]
    }
   ],
   "source": [
    "print(arr_f>=5)"
   ]
  },
  {
   "cell_type": "code",
   "execution_count": 85,
   "id": "79df0712",
   "metadata": {},
   "outputs": [
    {
     "name": "stdout",
     "output_type": "stream",
     "text": [
      "index of value 4 :  (array([3, 5, 6], dtype=int64),)\n",
      "index of the even numbers in the array :  (array([1, 3, 5, 6], dtype=int64),)\n",
      "index of the odd numbers in the array :  (array([0, 2, 4], dtype=int64),)\n"
     ]
    }
   ],
   "source": [
    "arr = np.array([1, 2, 3, 4, 5, 4, 4])\n",
    "\n",
    "find_four = np.where(arr == 4)\n",
    "find_even = np.where(arr%2 == 0)\n",
    "find_odd = np.where(arr%2 == 1)\n",
    "\n",
    "print(\"index of value 4 : \", find_four)\n",
    "print(\"index of the even numbers in the array : \", find_even)\n",
    "print(\"index of the odd numbers in the array : \", find_odd)"
   ]
  },
  {
   "cell_type": "code",
   "execution_count": 86,
   "id": "b549713c",
   "metadata": {},
   "outputs": [
    {
     "name": "stdout",
     "output_type": "stream",
     "text": [
      "[False False False  True  True  True  True]\n",
      "[4 5 4 4]\n"
     ]
    }
   ],
   "source": [
    "find = arr[arr >= 4]\n",
    "\n",
    "print(arr >= 4)\n",
    "print(find)"
   ]
  },
  {
   "cell_type": "code",
   "execution_count": 87,
   "id": "bf010827",
   "metadata": {},
   "outputs": [],
   "source": [
    "arr_5 = np.array([2, 2, 2, 2, 2])\n",
    "arr_6 = np.array([1, 2, 3, 4, 5])\n",
    "arr_7 = np.array([1.051, -2, 3.5, -4, 5.75])"
   ]
  },
  {
   "cell_type": "code",
   "execution_count": 88,
   "id": "c8a66992",
   "metadata": {},
   "outputs": [
    {
     "name": "stdout",
     "output_type": "stream",
     "text": [
      "[ 2  4  8 16 32]\n"
     ]
    }
   ],
   "source": [
    "arr_pow = np.power(arr_5, arr_6)\n",
    "print(arr_pow)"
   ]
  },
  {
   "cell_type": "code",
   "execution_count": 89,
   "id": "72e1af66",
   "metadata": {},
   "outputs": [
    {
     "name": "stdout",
     "output_type": "stream",
     "text": [
      "[ 1  4  9 16 25]\n"
     ]
    }
   ],
   "source": [
    "arr_square = np.square(arr_6)\n",
    "print(arr_square)"
   ]
  },
  {
   "cell_type": "code",
   "execution_count": 90,
   "id": "516d02fb",
   "metadata": {},
   "outputs": [
    {
     "name": "stdout",
     "output_type": "stream",
     "text": [
      "[1.051 2.    3.5   4.    5.75 ]\n"
     ]
    }
   ],
   "source": [
    "arr_abs = np.abs(arr_7)\n",
    "print(arr_abs)"
   ]
  },
  {
   "cell_type": "code",
   "execution_count": 91,
   "id": "9ae297cb",
   "metadata": {},
   "outputs": [
    {
     "name": "stdout",
     "output_type": "stream",
     "text": [
      "[ 2. -2.  4. -4.  6.]\n"
     ]
    }
   ],
   "source": [
    "arr_ceil = np.ceil(arr_7)\n",
    "print(arr_ceil)\n"
   ]
  },
  {
   "cell_type": "code",
   "execution_count": 92,
   "id": "480bd4d2",
   "metadata": {},
   "outputs": [
    {
     "name": "stdout",
     "output_type": "stream",
     "text": [
      "[ 1. -2.  3. -4.  5.]\n"
     ]
    }
   ],
   "source": [
    "arr_floor = np.floor(arr_7)\n",
    "print(arr_floor)\n"
   ]
  },
  {
   "cell_type": "code",
   "execution_count": 93,
   "id": "46dcbef6",
   "metadata": {},
   "outputs": [
    {
     "name": "stdout",
     "output_type": "stream",
     "text": [
      "[ 1. -2.  4. -4.  6.]\n"
     ]
    }
   ],
   "source": [
    "arr_round = np.round(arr_7)\n",
    "print(arr_round)"
   ]
  },
  {
   "cell_type": "code",
   "execution_count": null,
   "id": "5cb8cc5e",
   "metadata": {},
   "outputs": [],
   "source": []
  },
  {
   "cell_type": "code",
   "execution_count": null,
   "id": "e8e08cea",
   "metadata": {},
   "outputs": [],
   "source": []
  },
  {
   "cell_type": "code",
   "execution_count": null,
   "id": "208723e9",
   "metadata": {},
   "outputs": [],
   "source": []
  },
  {
   "cell_type": "code",
   "execution_count": null,
   "id": "afb2a18d",
   "metadata": {},
   "outputs": [],
   "source": []
  },
  {
   "cell_type": "code",
   "execution_count": null,
   "id": "5c602237",
   "metadata": {},
   "outputs": [],
   "source": []
  }
 ],
 "metadata": {
  "kernelspec": {
   "display_name": "Python 3 (ipykernel)",
   "language": "python",
   "name": "python3"
  },
  "language_info": {
   "codemirror_mode": {
    "name": "ipython",
    "version": 3
   },
   "file_extension": ".py",
   "mimetype": "text/x-python",
   "name": "python",
   "nbconvert_exporter": "python",
   "pygments_lexer": "ipython3",
   "version": "3.9.7"
  }
 },
 "nbformat": 4,
 "nbformat_minor": 5
}
